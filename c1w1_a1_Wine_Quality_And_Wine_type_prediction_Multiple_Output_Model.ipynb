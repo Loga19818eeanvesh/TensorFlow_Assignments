{
  "nbformat": 4,
  "nbformat_minor": 0,
  "metadata": {
    "colab": {
      "name": "Wine_Quality_And_Wine_type_prediction-Multiple Output Model.ipynb",
      "provenance": [],
      "authorship_tag": "ABX9TyPi1j/ULhoI1+v1wHovOcY6",
      "include_colab_link": true
    },
    "kernelspec": {
      "name": "python3",
      "display_name": "Python 3"
    },
    "language_info": {
      "name": "python"
    }
  },
  "cells": [
    {
      "cell_type": "markdown",
      "metadata": {
        "id": "view-in-github",
        "colab_type": "text"
      },
      "source": [
        "<a href=\"https://colab.research.google.com/github/Loga19818eeanvesh/TensorFlow_Assignments/blob/main/c1w1_a1_Wine_Quality_And_Wine_type_prediction_Multiple_Output_Model.ipynb\" target=\"_parent\"><img src=\"https://colab.research.google.com/assets/colab-badge.svg\" alt=\"Open In Colab\"/></a>"
      ]
    },
    {
      "cell_type": "code",
      "execution_count": null,
      "metadata": {
        "id": "vPx9_wSi-XzW"
      },
      "outputs": [],
      "source": [
        ""
      ]
    },
    {
      "cell_type": "code",
      "source": [
        "pip install tensorflow==2.2.0"
      ],
      "metadata": {
        "colab": {
          "base_uri": "https://localhost:8080/"
        },
        "id": "GX1uskYG-y8Q",
        "outputId": "f32705fe-a663-4cc1-c13e-0333bac869d6"
      },
      "execution_count": 1,
      "outputs": [
        {
          "output_type": "stream",
          "name": "stdout",
          "text": [
            "Collecting tensorflow==2.2.0\n",
            "  Downloading tensorflow-2.2.0-cp37-cp37m-manylinux2010_x86_64.whl (516.2 MB)\n",
            "\u001b[K     |████████████████████████████████| 516.2 MB 3.6 kB/s \n",
            "\u001b[?25hRequirement already satisfied: opt-einsum>=2.3.2 in /usr/local/lib/python3.7/dist-packages (from tensorflow==2.2.0) (3.3.0)\n",
            "Collecting tensorboard<2.3.0,>=2.2.0\n",
            "  Downloading tensorboard-2.2.2-py3-none-any.whl (3.0 MB)\n",
            "\u001b[K     |████████████████████████████████| 3.0 MB 38.1 MB/s \n",
            "\u001b[?25hRequirement already satisfied: six>=1.12.0 in /usr/local/lib/python3.7/dist-packages (from tensorflow==2.2.0) (1.15.0)\n",
            "Requirement already satisfied: grpcio>=1.8.6 in /usr/local/lib/python3.7/dist-packages (from tensorflow==2.2.0) (1.43.0)\n",
            "Requirement already satisfied: absl-py>=0.7.0 in /usr/local/lib/python3.7/dist-packages (from tensorflow==2.2.0) (1.0.0)\n",
            "Requirement already satisfied: wheel>=0.26 in /usr/local/lib/python3.7/dist-packages (from tensorflow==2.2.0) (0.37.1)\n",
            "Collecting h5py<2.11.0,>=2.10.0\n",
            "  Downloading h5py-2.10.0-cp37-cp37m-manylinux1_x86_64.whl (2.9 MB)\n",
            "\u001b[K     |████████████████████████████████| 2.9 MB 36.9 MB/s \n",
            "\u001b[?25hRequirement already satisfied: scipy==1.4.1 in /usr/local/lib/python3.7/dist-packages (from tensorflow==2.2.0) (1.4.1)\n",
            "Requirement already satisfied: astunparse==1.6.3 in /usr/local/lib/python3.7/dist-packages (from tensorflow==2.2.0) (1.6.3)\n",
            "Collecting gast==0.3.3\n",
            "  Downloading gast-0.3.3-py2.py3-none-any.whl (9.7 kB)\n",
            "Requirement already satisfied: protobuf>=3.8.0 in /usr/local/lib/python3.7/dist-packages (from tensorflow==2.2.0) (3.17.3)\n",
            "Requirement already satisfied: termcolor>=1.1.0 in /usr/local/lib/python3.7/dist-packages (from tensorflow==2.2.0) (1.1.0)\n",
            "Requirement already satisfied: numpy<2.0,>=1.16.0 in /usr/local/lib/python3.7/dist-packages (from tensorflow==2.2.0) (1.21.5)\n",
            "Collecting tensorflow-estimator<2.3.0,>=2.2.0\n",
            "  Downloading tensorflow_estimator-2.2.0-py2.py3-none-any.whl (454 kB)\n",
            "\u001b[K     |████████████████████████████████| 454 kB 49.4 MB/s \n",
            "\u001b[?25hRequirement already satisfied: google-pasta>=0.1.8 in /usr/local/lib/python3.7/dist-packages (from tensorflow==2.2.0) (0.2.0)\n",
            "Requirement already satisfied: wrapt>=1.11.1 in /usr/local/lib/python3.7/dist-packages (from tensorflow==2.2.0) (1.13.3)\n",
            "Requirement already satisfied: keras-preprocessing>=1.1.0 in /usr/local/lib/python3.7/dist-packages (from tensorflow==2.2.0) (1.1.2)\n",
            "Requirement already satisfied: google-auth-oauthlib<0.5,>=0.4.1 in /usr/local/lib/python3.7/dist-packages (from tensorboard<2.3.0,>=2.2.0->tensorflow==2.2.0) (0.4.6)\n",
            "Requirement already satisfied: requests<3,>=2.21.0 in /usr/local/lib/python3.7/dist-packages (from tensorboard<2.3.0,>=2.2.0->tensorflow==2.2.0) (2.23.0)\n",
            "Requirement already satisfied: setuptools>=41.0.0 in /usr/local/lib/python3.7/dist-packages (from tensorboard<2.3.0,>=2.2.0->tensorflow==2.2.0) (57.4.0)\n",
            "Requirement already satisfied: tensorboard-plugin-wit>=1.6.0 in /usr/local/lib/python3.7/dist-packages (from tensorboard<2.3.0,>=2.2.0->tensorflow==2.2.0) (1.8.1)\n",
            "Requirement already satisfied: werkzeug>=0.11.15 in /usr/local/lib/python3.7/dist-packages (from tensorboard<2.3.0,>=2.2.0->tensorflow==2.2.0) (1.0.1)\n",
            "Requirement already satisfied: markdown>=2.6.8 in /usr/local/lib/python3.7/dist-packages (from tensorboard<2.3.0,>=2.2.0->tensorflow==2.2.0) (3.3.6)\n",
            "Requirement already satisfied: google-auth<2,>=1.6.3 in /usr/local/lib/python3.7/dist-packages (from tensorboard<2.3.0,>=2.2.0->tensorflow==2.2.0) (1.35.0)\n",
            "Requirement already satisfied: rsa<5,>=3.1.4 in /usr/local/lib/python3.7/dist-packages (from google-auth<2,>=1.6.3->tensorboard<2.3.0,>=2.2.0->tensorflow==2.2.0) (4.8)\n",
            "Requirement already satisfied: cachetools<5.0,>=2.0.0 in /usr/local/lib/python3.7/dist-packages (from google-auth<2,>=1.6.3->tensorboard<2.3.0,>=2.2.0->tensorflow==2.2.0) (4.2.4)\n",
            "Requirement already satisfied: pyasn1-modules>=0.2.1 in /usr/local/lib/python3.7/dist-packages (from google-auth<2,>=1.6.3->tensorboard<2.3.0,>=2.2.0->tensorflow==2.2.0) (0.2.8)\n",
            "Requirement already satisfied: requests-oauthlib>=0.7.0 in /usr/local/lib/python3.7/dist-packages (from google-auth-oauthlib<0.5,>=0.4.1->tensorboard<2.3.0,>=2.2.0->tensorflow==2.2.0) (1.3.1)\n",
            "Requirement already satisfied: importlib-metadata>=4.4 in /usr/local/lib/python3.7/dist-packages (from markdown>=2.6.8->tensorboard<2.3.0,>=2.2.0->tensorflow==2.2.0) (4.11.0)\n",
            "Requirement already satisfied: zipp>=0.5 in /usr/local/lib/python3.7/dist-packages (from importlib-metadata>=4.4->markdown>=2.6.8->tensorboard<2.3.0,>=2.2.0->tensorflow==2.2.0) (3.7.0)\n",
            "Requirement already satisfied: typing-extensions>=3.6.4 in /usr/local/lib/python3.7/dist-packages (from importlib-metadata>=4.4->markdown>=2.6.8->tensorboard<2.3.0,>=2.2.0->tensorflow==2.2.0) (3.10.0.2)\n",
            "Requirement already satisfied: pyasn1<0.5.0,>=0.4.6 in /usr/local/lib/python3.7/dist-packages (from pyasn1-modules>=0.2.1->google-auth<2,>=1.6.3->tensorboard<2.3.0,>=2.2.0->tensorflow==2.2.0) (0.4.8)\n",
            "Requirement already satisfied: idna<3,>=2.5 in /usr/local/lib/python3.7/dist-packages (from requests<3,>=2.21.0->tensorboard<2.3.0,>=2.2.0->tensorflow==2.2.0) (2.10)\n",
            "Requirement already satisfied: urllib3!=1.25.0,!=1.25.1,<1.26,>=1.21.1 in /usr/local/lib/python3.7/dist-packages (from requests<3,>=2.21.0->tensorboard<2.3.0,>=2.2.0->tensorflow==2.2.0) (1.24.3)\n",
            "Requirement already satisfied: chardet<4,>=3.0.2 in /usr/local/lib/python3.7/dist-packages (from requests<3,>=2.21.0->tensorboard<2.3.0,>=2.2.0->tensorflow==2.2.0) (3.0.4)\n",
            "Requirement already satisfied: certifi>=2017.4.17 in /usr/local/lib/python3.7/dist-packages (from requests<3,>=2.21.0->tensorboard<2.3.0,>=2.2.0->tensorflow==2.2.0) (2021.10.8)\n",
            "Requirement already satisfied: oauthlib>=3.0.0 in /usr/local/lib/python3.7/dist-packages (from requests-oauthlib>=0.7.0->google-auth-oauthlib<0.5,>=0.4.1->tensorboard<2.3.0,>=2.2.0->tensorflow==2.2.0) (3.2.0)\n",
            "Installing collected packages: tensorflow-estimator, tensorboard, h5py, gast, tensorflow\n",
            "  Attempting uninstall: tensorflow-estimator\n",
            "    Found existing installation: tensorflow-estimator 2.8.0\n",
            "    Uninstalling tensorflow-estimator-2.8.0:\n",
            "      Successfully uninstalled tensorflow-estimator-2.8.0\n",
            "  Attempting uninstall: tensorboard\n",
            "    Found existing installation: tensorboard 2.8.0\n",
            "    Uninstalling tensorboard-2.8.0:\n",
            "      Successfully uninstalled tensorboard-2.8.0\n",
            "  Attempting uninstall: h5py\n",
            "    Found existing installation: h5py 3.1.0\n",
            "    Uninstalling h5py-3.1.0:\n",
            "      Successfully uninstalled h5py-3.1.0\n",
            "  Attempting uninstall: gast\n",
            "    Found existing installation: gast 0.5.3\n",
            "    Uninstalling gast-0.5.3:\n",
            "      Successfully uninstalled gast-0.5.3\n",
            "  Attempting uninstall: tensorflow\n",
            "    Found existing installation: tensorflow 2.8.0\n",
            "    Uninstalling tensorflow-2.8.0:\n",
            "      Successfully uninstalled tensorflow-2.8.0\n",
            "Successfully installed gast-0.3.3 h5py-2.10.0 tensorboard-2.2.2 tensorflow-2.2.0 tensorflow-estimator-2.2.0\n"
          ]
        }
      ]
    },
    {
      "cell_type": "code",
      "source": [
        "import tensorflow as tf\n",
        "from tensorflow.keras.models import Model\n",
        "from tensorflow.keras.layers import Dense, Input,Dropout\n",
        "\n",
        "import numpy as np\n",
        "import matplotlib.pyplot as plt\n",
        "import pandas as pd\n",
        "from sklearn.model_selection import train_test_split\n",
        "from sklearn.metrics import confusion_matrix\n",
        "import itertools"
      ],
      "metadata": {
        "id": "bSLiriYR-2N_"
      },
      "execution_count": 37,
      "outputs": []
    },
    {
      "cell_type": "code",
      "source": [
        "# URL of the white wine dataset\n",
        "URL = 'http://archive.ics.uci.edu/ml/machine-learning-databases/wine-quality/winequality-white.csv'\n",
        "\n",
        "# load the dataset from the URL\n",
        "white_df = pd.read_csv(URL, sep=\";\")\n",
        "\n",
        "# fill the `is_red` column with zeros.\n",
        "white_df[\"is_red\"] = 0\n",
        "\n",
        "# keep only the first of duplicate items\n",
        "white_df = white_df.drop_duplicates(keep='first')"
      ],
      "metadata": {
        "id": "HOQXFZu0_f66"
      },
      "execution_count": 3,
      "outputs": []
    },
    {
      "cell_type": "code",
      "source": [
        "print(white_df.alcohol[0])\n",
        "print(white_df.alcohol[100])"
      ],
      "metadata": {
        "colab": {
          "base_uri": "https://localhost:8080/"
        },
        "id": "GzJS_1J0AmfD",
        "outputId": "495e9907-f479-4b14-b37a-8474df135c5c"
      },
      "execution_count": 5,
      "outputs": [
        {
          "output_type": "stream",
          "name": "stdout",
          "text": [
            "8.8\n",
            "9.1\n"
          ]
        }
      ]
    },
    {
      "cell_type": "code",
      "source": [
        "# URL of the red wine dataset\n",
        "URL = 'http://archive.ics.uci.edu/ml/machine-learning-databases/wine-quality/winequality-red.csv'\n",
        "\n",
        "# load the dataset from the URL\n",
        "red_df = pd.read_csv(URL, sep=\";\")\n",
        "\n",
        "# fill the `is_red` column with ones.\n",
        "red_df[\"is_red\"] = 1\n",
        "\n",
        "# keep only the first of duplicate items\n",
        "red_df = red_df.drop_duplicates(keep='first')"
      ],
      "metadata": {
        "id": "aDOoglkbAvvO"
      },
      "execution_count": 6,
      "outputs": []
    },
    {
      "cell_type": "code",
      "source": [
        "print(red_df.alcohol[0])\n",
        "print(red_df.alcohol[100])\n"
      ],
      "metadata": {
        "colab": {
          "base_uri": "https://localhost:8080/"
        },
        "id": "QnQ0a9bUAynr",
        "outputId": "fd06ac33-0724-4e94-c851-651f1196f7ce"
      },
      "execution_count": 7,
      "outputs": [
        {
          "output_type": "stream",
          "name": "stdout",
          "text": [
            "9.4\n",
            "10.2\n"
          ]
        }
      ]
    },
    {
      "cell_type": "code",
      "source": [
        "print(red_df[['alcohol']])"
      ],
      "metadata": {
        "colab": {
          "base_uri": "https://localhost:8080/"
        },
        "id": "6bqpH0axB_pK",
        "outputId": "496da60a-73c1-4ad7-dc61-b7c475ee47e6"
      },
      "execution_count": 19,
      "outputs": [
        {
          "output_type": "stream",
          "name": "stdout",
          "text": [
            "      alcohol\n",
            "0         9.4\n",
            "1         9.8\n",
            "2         9.8\n",
            "3         9.8\n",
            "5         9.4\n",
            "...       ...\n",
            "1593      9.5\n",
            "1594     10.5\n",
            "1595     11.2\n",
            "1597     10.2\n",
            "1598     11.0\n",
            "\n",
            "[1359 rows x 1 columns]\n"
          ]
        }
      ]
    },
    {
      "cell_type": "code",
      "source": [
        "print(red_df.loc[0])"
      ],
      "metadata": {
        "colab": {
          "base_uri": "https://localhost:8080/"
        },
        "id": "Wwq2TCsRCEYQ",
        "outputId": "375d29c7-bc34-4c11-d62e-b6594646ba1e"
      },
      "execution_count": 20,
      "outputs": [
        {
          "output_type": "stream",
          "name": "stdout",
          "text": [
            "fixed acidity            7.4000\n",
            "volatile acidity         0.7000\n",
            "citric acid              0.0000\n",
            "residual sugar           1.9000\n",
            "chlorides                0.0760\n",
            "free sulfur dioxide     11.0000\n",
            "total sulfur dioxide    34.0000\n",
            "density                  0.9978\n",
            "pH                       3.5100\n",
            "sulphates                0.5600\n",
            "alcohol                  9.4000\n",
            "quality                  5.0000\n",
            "is_red                   1.0000\n",
            "Name: 0, dtype: float64\n"
          ]
        }
      ]
    },
    {
      "cell_type": "code",
      "source": [
        "df = pd.concat([red_df, white_df], ignore_index=True)"
      ],
      "metadata": {
        "id": "fW2MMOG8CF-2"
      },
      "execution_count": 15,
      "outputs": []
    },
    {
      "cell_type": "code",
      "source": [
        "print(df.alcohol[0])\n",
        "print(df.alcohol[100])"
      ],
      "metadata": {
        "colab": {
          "base_uri": "https://localhost:8080/"
        },
        "id": "Y-Y2azANC8U3",
        "outputId": "c63e54e4-f953-4af2-800b-9fb47c0a6eb0"
      },
      "execution_count": 16,
      "outputs": [
        {
          "output_type": "stream",
          "name": "stdout",
          "text": [
            "9.4\n",
            "9.5\n"
          ]
        }
      ]
    },
    {
      "cell_type": "code",
      "source": [
        "print(df)"
      ],
      "metadata": {
        "colab": {
          "base_uri": "https://localhost:8080/"
        },
        "id": "BTA6sINgC-9y",
        "outputId": "f0c6fd86-5b9d-432c-eecd-2f07305ddbc3"
      },
      "execution_count": 18,
      "outputs": [
        {
          "output_type": "stream",
          "name": "stdout",
          "text": [
            "      fixed acidity  volatile acidity  citric acid  ...  alcohol  quality  is_red\n",
            "0               7.4              0.70         0.00  ...      9.4        5       1\n",
            "1               7.8              0.88         0.00  ...      9.8        5       1\n",
            "2               7.8              0.76         0.04  ...      9.8        5       1\n",
            "3              11.2              0.28         0.56  ...      9.8        6       1\n",
            "4               7.4              0.66         0.00  ...      9.4        5       1\n",
            "...             ...               ...          ...  ...      ...      ...     ...\n",
            "5315            6.2              0.21         0.29  ...     11.2        6       0\n",
            "5316            6.6              0.32         0.36  ...      9.6        5       0\n",
            "5317            6.5              0.24         0.19  ...      9.4        6       0\n",
            "5318            5.5              0.29         0.30  ...     12.8        7       0\n",
            "5319            6.0              0.21         0.38  ...     11.8        6       0\n",
            "\n",
            "[5320 rows x 13 columns]\n"
          ]
        }
      ]
    },
    {
      "cell_type": "code",
      "source": [
        "df['quality'].hist(bins=20);"
      ],
      "metadata": {
        "colab": {
          "base_uri": "https://localhost:8080/",
          "height": 265
        },
        "id": "GdYSJP3ZDTdG",
        "outputId": "ffac20da-d872-4e9f-ed23-955b887fa28d"
      },
      "execution_count": 21,
      "outputs": [
        {
          "output_type": "display_data",
          "data": {
            "image/png": "[encoded data removed]",
            "text/plain": [
              "<Figure size 432x288 with 1 Axes>"
            ]
          },
          "metadata": {
            "needs_background": "light"
          }
        }
      ]
    },
    {
      "cell_type": "code",
      "source": [
        "#Since there are very few observations with quality equal to 3, 4, 8 and 9, you can drop these observations from your dataset.\n",
        "\n",
        "# get data with wine quality greater than 4 and less than 8\n",
        "df = df[(df['quality'] > 4) & (df['quality'] < 8 )]\n",
        "\n",
        "# reset index and drop the old one\n",
        "df = df.reset_index(drop=True)"
      ],
      "metadata": {
        "id": "deSYg2A1Dwbq"
      },
      "execution_count": 23,
      "outputs": []
    },
    {
      "cell_type": "code",
      "source": [
        "print(df.alcohol[0])\n",
        "print(df.alcohol[100])"
      ],
      "metadata": {
        "colab": {
          "base_uri": "https://localhost:8080/"
        },
        "id": "QiXiWubIEBt3",
        "outputId": "b0cfef72-b922-439e-f204-6d608bd55595"
      },
      "execution_count": 24,
      "outputs": [
        {
          "output_type": "stream",
          "name": "stdout",
          "text": [
            "9.4\n",
            "10.9\n"
          ]
        }
      ]
    },
    {
      "cell_type": "code",
      "source": [
        "df['quality'].hist(bins=20);"
      ],
      "metadata": {
        "colab": {
          "base_uri": "https://localhost:8080/",
          "height": 265
        },
        "id": "ZMrpDH_IEI-9",
        "outputId": "67a80c21-ed15-4676-882e-5a01449dde7c"
      },
      "execution_count": 25,
      "outputs": [
        {
          "output_type": "display_data",
          "data": {
            "image/png": "[encoded data removed]",
            "text/plain": [
              "<Figure size 432x288 with 1 Axes>"
            ]
          },
          "metadata": {
            "needs_background": "light"
          }
        }
      ]
    },
    {
      "cell_type": "code",
      "source": [
        "# split df into 80:20 train and test sets\n",
        "train, test = train_test_split(df, test_size=0.2, random_state = 1)\n",
        "                               \n",
        "# split train into 80:20 train and val sets\n",
        "train, val = train_test_split(train, test_size=0.2, random_state = 1)"
      ],
      "metadata": {
        "id": "OeN6hyYNEbi6"
      },
      "execution_count": 26,
      "outputs": []
    },
    {
      "cell_type": "code",
      "source": [
        "train_stats = train.describe()\n",
        "train_stats.pop('is_red')\n",
        "train_stats.pop('quality')\n",
        "train_stats = train_stats.transpose()"
      ],
      "metadata": {
        "id": "IO6HxzgMErjv"
      },
      "execution_count": 27,
      "outputs": []
    },
    {
      "cell_type": "code",
      "source": [
        "train_stats"
      ],
      "metadata": {
        "colab": {
          "base_uri": "https://localhost:8080/",
          "height": 394
        },
        "id": "AE2stnPhEuuL",
        "outputId": "6606dd4d-95b8-4fd9-bf8c-8d80058ba04d"
      },
      "execution_count": 28,
      "outputs": [
        {
          "output_type": "execute_result",
          "data": {
            "text/html": [
              "\n",
              "  <div id=\"df-a4d7a046-66f4-4f7c-8bce-23f8e9c2a642\">\n",
              "    <div class=\"colab-df-container\">\n",
              "      <div>\n",
              "<style scoped>\n",
              "    .dataframe tbody tr th:only-of-type {\n",
              "        vertical-align: middle;\n",
              "    }\n",
              "\n",
              "    .dataframe tbody tr th {\n",
              "        vertical-align: top;\n",
              "    }\n",
              "\n",
              "    .dataframe thead th {\n",
              "        text-align: right;\n",
              "    }\n",
              "</style>\n",
              "<table border=\"1\" class=\"dataframe\">\n",
              "  <thead>\n",
              "    <tr style=\"text-align: right;\">\n",
              "      <th></th>\n",
              "      <th>count</th>\n",
              "      <th>mean</th>\n",
              "      <th>std</th>\n",
              "      <th>min</th>\n",
              "      <th>25%</th>\n",
              "      <th>50%</th>\n",
              "      <th>75%</th>\n",
              "      <th>max</th>\n",
              "    </tr>\n",
              "  </thead>\n",
              "  <tbody>\n",
              "    <tr>\n",
              "      <th>fixed acidity</th>\n",
              "      <td>3155.0</td>\n",
              "      <td>7.221616</td>\n",
              "      <td>1.325297</td>\n",
              "      <td>3.80000</td>\n",
              "      <td>6.40000</td>\n",
              "      <td>7.00000</td>\n",
              "      <td>7.7000</td>\n",
              "      <td>15.60000</td>\n",
              "    </tr>\n",
              "    <tr>\n",
              "      <th>volatile acidity</th>\n",
              "      <td>3155.0</td>\n",
              "      <td>0.338929</td>\n",
              "      <td>0.162476</td>\n",
              "      <td>0.08000</td>\n",
              "      <td>0.23000</td>\n",
              "      <td>0.29000</td>\n",
              "      <td>0.4000</td>\n",
              "      <td>1.24000</td>\n",
              "    </tr>\n",
              "    <tr>\n",
              "      <th>citric acid</th>\n",
              "      <td>3155.0</td>\n",
              "      <td>0.321569</td>\n",
              "      <td>0.147970</td>\n",
              "      <td>0.00000</td>\n",
              "      <td>0.25000</td>\n",
              "      <td>0.31000</td>\n",
              "      <td>0.4000</td>\n",
              "      <td>1.66000</td>\n",
              "    </tr>\n",
              "    <tr>\n",
              "      <th>residual sugar</th>\n",
              "      <td>3155.0</td>\n",
              "      <td>5.155911</td>\n",
              "      <td>4.639632</td>\n",
              "      <td>0.60000</td>\n",
              "      <td>1.80000</td>\n",
              "      <td>2.80000</td>\n",
              "      <td>7.6500</td>\n",
              "      <td>65.80000</td>\n",
              "    </tr>\n",
              "    <tr>\n",
              "      <th>chlorides</th>\n",
              "      <td>3155.0</td>\n",
              "      <td>0.056976</td>\n",
              "      <td>0.036802</td>\n",
              "      <td>0.01200</td>\n",
              "      <td>0.03800</td>\n",
              "      <td>0.04700</td>\n",
              "      <td>0.0660</td>\n",
              "      <td>0.61100</td>\n",
              "    </tr>\n",
              "    <tr>\n",
              "      <th>free sulfur dioxide</th>\n",
              "      <td>3155.0</td>\n",
              "      <td>30.388590</td>\n",
              "      <td>17.236784</td>\n",
              "      <td>1.00000</td>\n",
              "      <td>17.00000</td>\n",
              "      <td>28.00000</td>\n",
              "      <td>41.0000</td>\n",
              "      <td>131.00000</td>\n",
              "    </tr>\n",
              "    <tr>\n",
              "      <th>total sulfur dioxide</th>\n",
              "      <td>3155.0</td>\n",
              "      <td>115.062282</td>\n",
              "      <td>56.706617</td>\n",
              "      <td>6.00000</td>\n",
              "      <td>75.00000</td>\n",
              "      <td>117.00000</td>\n",
              "      <td>156.0000</td>\n",
              "      <td>344.00000</td>\n",
              "    </tr>\n",
              "    <tr>\n",
              "      <th>density</th>\n",
              "      <td>3155.0</td>\n",
              "      <td>0.994633</td>\n",
              "      <td>0.003005</td>\n",
              "      <td>0.98711</td>\n",
              "      <td>0.99232</td>\n",
              "      <td>0.99481</td>\n",
              "      <td>0.9968</td>\n",
              "      <td>1.03898</td>\n",
              "    </tr>\n",
              "    <tr>\n",
              "      <th>pH</th>\n",
              "      <td>3155.0</td>\n",
              "      <td>3.223201</td>\n",
              "      <td>0.161272</td>\n",
              "      <td>2.72000</td>\n",
              "      <td>3.11000</td>\n",
              "      <td>3.21000</td>\n",
              "      <td>3.3300</td>\n",
              "      <td>4.01000</td>\n",
              "    </tr>\n",
              "    <tr>\n",
              "      <th>sulphates</th>\n",
              "      <td>3155.0</td>\n",
              "      <td>0.534051</td>\n",
              "      <td>0.149149</td>\n",
              "      <td>0.22000</td>\n",
              "      <td>0.43000</td>\n",
              "      <td>0.51000</td>\n",
              "      <td>0.6000</td>\n",
              "      <td>1.95000</td>\n",
              "    </tr>\n",
              "    <tr>\n",
              "      <th>alcohol</th>\n",
              "      <td>3155.0</td>\n",
              "      <td>10.504466</td>\n",
              "      <td>1.154654</td>\n",
              "      <td>8.50000</td>\n",
              "      <td>9.50000</td>\n",
              "      <td>10.30000</td>\n",
              "      <td>11.3000</td>\n",
              "      <td>14.00000</td>\n",
              "    </tr>\n",
              "  </tbody>\n",
              "</table>\n",
              "</div>\n",
              "      <button class=\"colab-df-convert\" onclick=\"convertToInteractive('df-a4d7a046-66f4-4f7c-8bce-23f8e9c2a642')\"\n",
              "              title=\"Convert this dataframe to an interactive table.\"\n",
              "              style=\"display:none;\">\n",
              "        \n",
              "  <svg xmlns=\"http://www.w3.org/2000/svg\" height=\"24px\"viewBox=\"0 0 24 24\"\n",
              "       width=\"24px\">\n",
              "    <path d=\"M0 0h24v24H0V0z\" fill=\"none\"/>\n",
              "    <path d=\"M18.56 5.44l.94 2.06.94-2.06 2.06-.94-2.06-.94-.94-2.06-.94 2.06-2.06.94zm-11 1L8.5 8.5l.94-2.06 2.06-.94-2.06-.94L8.5 2.5l-.94 2.06-2.06.94zm10 10l.94 2.06.94-2.06 2.06-.94-2.06-.94-.94-2.06-.94 2.06-2.06.94z\"/><path d=\"M17.41 7.96l-1.37-1.37c-.4-.4-.92-.59-1.43-.59-.52 0-1.04.2-1.43.59L10.3 9.45l-7.72 7.72c-.78.78-.78 2.05 0 2.83L4 21.41c.39.39.9.59 1.41.59.51 0 1.02-.2 1.41-.59l7.78-7.78 2.81-2.81c.8-.78.8-2.07 0-2.86zM5.41 20L4 18.59l7.72-7.72 1.47 1.35L5.41 20z\"/>\n",
              "  </svg>\n",
              "      </button>\n",
              "      \n",
              "  <style>\n",
              "    .colab-df-container {\n",
              "      display:flex;\n",
              "      flex-wrap:wrap;\n",
              "      gap: 12px;\n",
              "    }\n",
              "\n",
              "    .colab-df-convert {\n",
              "      background-color: #E8F0FE;\n",
              "      border: none;\n",
              "      border-radius: 50%;\n",
              "      cursor: pointer;\n",
              "      display: none;\n",
              "      fill: #1967D2;\n",
              "      height: 32px;\n",
              "      padding: 0 0 0 0;\n",
              "      width: 32px;\n",
              "    }\n",
              "\n",
              "    .colab-df-convert:hover {\n",
              "      background-color: #E2EBFA;\n",
              "      box-shadow: 0px 1px 2px rgba(60, 64, 67, 0.3), 0px 1px 3px 1px rgba(60, 64, 67, 0.15);\n",
              "      fill: #174EA6;\n",
              "    }\n",
              "\n",
              "    [theme=dark] .colab-df-convert {\n",
              "      background-color: #3B4455;\n",
              "      fill: #D2E3FC;\n",
              "    }\n",
              "\n",
              "    [theme=dark] .colab-df-convert:hover {\n",
              "      background-color: #434B5C;\n",
              "      box-shadow: 0px 1px 3px 1px rgba(0, 0, 0, 0.15);\n",
              "      filter: drop-shadow(0px 1px 2px rgba(0, 0, 0, 0.3));\n",
              "      fill: #FFFFFF;\n",
              "    }\n",
              "  </style>\n",
              "\n",
              "      <script>\n",
              "        const buttonEl =\n",
              "          document.querySelector('#df-a4d7a046-66f4-4f7c-8bce-23f8e9c2a642 button.colab-df-convert');\n",
              "        buttonEl.style.display =\n",
              "          google.colab.kernel.accessAllowed ? 'block' : 'none';\n",
              "\n",
              "        async function convertToInteractive(key) {\n",
              "          const element = document.querySelector('#df-a4d7a046-66f4-4f7c-8bce-23f8e9c2a642');\n",
              "          const dataTable =\n",
              "            await google.colab.kernel.invokeFunction('convertToInteractive',\n",
              "                                                     [key], {});\n",
              "          if (!dataTable) return;\n",
              "\n",
              "          const docLinkHtml = 'Like what you see? Visit the ' +\n",
              "            '<a target=\"_blank\" href=https://colab.research.google.com/notebooks/data_table.ipynb>data table notebook</a>'\n",
              "            + ' to learn more about interactive tables.';\n",
              "          element.innerHTML = '';\n",
              "          dataTable['output_type'] = 'display_data';\n",
              "          await google.colab.output.renderOutput(dataTable, element);\n",
              "          const docLink = document.createElement('div');\n",
              "          docLink.innerHTML = docLinkHtml;\n",
              "          element.appendChild(docLink);\n",
              "        }\n",
              "      </script>\n",
              "    </div>\n",
              "  </div>\n",
              "  "
            ],
            "text/plain": [
              "                       count        mean  ...       75%        max\n",
              "fixed acidity         3155.0    7.221616  ...    7.7000   15.60000\n",
              "volatile acidity      3155.0    0.338929  ...    0.4000    1.24000\n",
              "citric acid           3155.0    0.321569  ...    0.4000    1.66000\n",
              "residual sugar        3155.0    5.155911  ...    7.6500   65.80000\n",
              "chlorides             3155.0    0.056976  ...    0.0660    0.61100\n",
              "free sulfur dioxide   3155.0   30.388590  ...   41.0000  131.00000\n",
              "total sulfur dioxide  3155.0  115.062282  ...  156.0000  344.00000\n",
              "density               3155.0    0.994633  ...    0.9968    1.03898\n",
              "pH                    3155.0    3.223201  ...    3.3300    4.01000\n",
              "sulphates             3155.0    0.534051  ...    0.6000    1.95000\n",
              "alcohol               3155.0   10.504466  ...   11.3000   14.00000\n",
              "\n",
              "[11 rows x 8 columns]"
            ]
          },
          "metadata": {},
          "execution_count": 28
        }
      ]
    },
    {
      "cell_type": "code",
      "source": [
        "def format_output(data):\n",
        "    is_red = data.pop('is_red')\n",
        "    is_red = np.array(is_red)\n",
        "    quality = data.pop('quality')\n",
        "    quality = np.array(quality)\n",
        "    return (quality, is_red)\n"
      ],
      "metadata": {
        "id": "p0MuNCPtGjz_"
      },
      "execution_count": 29,
      "outputs": []
    },
    {
      "cell_type": "code",
      "source": [
        "# format the output of the train set\n",
        "train_Y = format_output(train)\n",
        "\n",
        "# format the output of the val set\n",
        "val_Y = format_output(val)\n",
        "    \n",
        "# format the output of the test set\n",
        "test_Y = format_output(test)"
      ],
      "metadata": {
        "id": "830KrRvDGsHQ"
      },
      "execution_count": 30,
      "outputs": []
    },
    {
      "cell_type": "code",
      "source": [
        "train.head()"
      ],
      "metadata": {
        "colab": {
          "base_uri": "https://localhost:8080/",
          "height": 305
        },
        "id": "FBe0Tu7jIybG",
        "outputId": "670fad8d-635a-4187-a5ff-8d8287d370ea"
      },
      "execution_count": 31,
      "outputs": [
        {
          "output_type": "execute_result",
          "data": {
            "text/html": [
              "\n",
              "  <div id=\"df-63f349bf-a4a4-4a0f-a3b1-1be457a8f420\">\n",
              "    <div class=\"colab-df-container\">\n",
              "      <div>\n",
              "<style scoped>\n",
              "    .dataframe tbody tr th:only-of-type {\n",
              "        vertical-align: middle;\n",
              "    }\n",
              "\n",
              "    .dataframe tbody tr th {\n",
              "        vertical-align: top;\n",
              "    }\n",
              "\n",
              "    .dataframe thead th {\n",
              "        text-align: right;\n",
              "    }\n",
              "</style>\n",
              "<table border=\"1\" class=\"dataframe\">\n",
              "  <thead>\n",
              "    <tr style=\"text-align: right;\">\n",
              "      <th></th>\n",
              "      <th>fixed acidity</th>\n",
              "      <th>volatile acidity</th>\n",
              "      <th>citric acid</th>\n",
              "      <th>residual sugar</th>\n",
              "      <th>chlorides</th>\n",
              "      <th>free sulfur dioxide</th>\n",
              "      <th>total sulfur dioxide</th>\n",
              "      <th>density</th>\n",
              "      <th>pH</th>\n",
              "      <th>sulphates</th>\n",
              "      <th>alcohol</th>\n",
              "    </tr>\n",
              "  </thead>\n",
              "  <tbody>\n",
              "    <tr>\n",
              "      <th>225</th>\n",
              "      <td>7.5</td>\n",
              "      <td>0.65</td>\n",
              "      <td>0.18</td>\n",
              "      <td>7.0</td>\n",
              "      <td>0.088</td>\n",
              "      <td>27.0</td>\n",
              "      <td>94.0</td>\n",
              "      <td>0.99915</td>\n",
              "      <td>3.38</td>\n",
              "      <td>0.77</td>\n",
              "      <td>9.4</td>\n",
              "    </tr>\n",
              "    <tr>\n",
              "      <th>3557</th>\n",
              "      <td>6.3</td>\n",
              "      <td>0.27</td>\n",
              "      <td>0.29</td>\n",
              "      <td>12.2</td>\n",
              "      <td>0.044</td>\n",
              "      <td>59.0</td>\n",
              "      <td>196.0</td>\n",
              "      <td>0.99782</td>\n",
              "      <td>3.14</td>\n",
              "      <td>0.40</td>\n",
              "      <td>8.8</td>\n",
              "    </tr>\n",
              "    <tr>\n",
              "      <th>3825</th>\n",
              "      <td>8.8</td>\n",
              "      <td>0.27</td>\n",
              "      <td>0.25</td>\n",
              "      <td>5.0</td>\n",
              "      <td>0.024</td>\n",
              "      <td>52.0</td>\n",
              "      <td>99.0</td>\n",
              "      <td>0.99250</td>\n",
              "      <td>2.87</td>\n",
              "      <td>0.49</td>\n",
              "      <td>11.4</td>\n",
              "    </tr>\n",
              "    <tr>\n",
              "      <th>1740</th>\n",
              "      <td>6.4</td>\n",
              "      <td>0.45</td>\n",
              "      <td>0.07</td>\n",
              "      <td>1.1</td>\n",
              "      <td>0.030</td>\n",
              "      <td>10.0</td>\n",
              "      <td>131.0</td>\n",
              "      <td>0.99050</td>\n",
              "      <td>2.97</td>\n",
              "      <td>0.28</td>\n",
              "      <td>10.8</td>\n",
              "    </tr>\n",
              "    <tr>\n",
              "      <th>1221</th>\n",
              "      <td>7.2</td>\n",
              "      <td>0.53</td>\n",
              "      <td>0.13</td>\n",
              "      <td>2.0</td>\n",
              "      <td>0.058</td>\n",
              "      <td>18.0</td>\n",
              "      <td>22.0</td>\n",
              "      <td>0.99573</td>\n",
              "      <td>3.21</td>\n",
              "      <td>0.68</td>\n",
              "      <td>9.9</td>\n",
              "    </tr>\n",
              "  </tbody>\n",
              "</table>\n",
              "</div>\n",
              "      <button class=\"colab-df-convert\" onclick=\"convertToInteractive('df-63f349bf-a4a4-4a0f-a3b1-1be457a8f420')\"\n",
              "              title=\"Convert this dataframe to an interactive table.\"\n",
              "              style=\"display:none;\">\n",
              "        \n",
              "  <svg xmlns=\"http://www.w3.org/2000/svg\" height=\"24px\"viewBox=\"0 0 24 24\"\n",
              "       width=\"24px\">\n",
              "    <path d=\"M0 0h24v24H0V0z\" fill=\"none\"/>\n",
              "    <path d=\"M18.56 5.44l.94 2.06.94-2.06 2.06-.94-2.06-.94-.94-2.06-.94 2.06-2.06.94zm-11 1L8.5 8.5l.94-2.06 2.06-.94-2.06-.94L8.5 2.5l-.94 2.06-2.06.94zm10 10l.94 2.06.94-2.06 2.06-.94-2.06-.94-.94-2.06-.94 2.06-2.06.94z\"/><path d=\"M17.41 7.96l-1.37-1.37c-.4-.4-.92-.59-1.43-.59-.52 0-1.04.2-1.43.59L10.3 9.45l-7.72 7.72c-.78.78-.78 2.05 0 2.83L4 21.41c.39.39.9.59 1.41.59.51 0 1.02-.2 1.41-.59l7.78-7.78 2.81-2.81c.8-.78.8-2.07 0-2.86zM5.41 20L4 18.59l7.72-7.72 1.47 1.35L5.41 20z\"/>\n",
              "  </svg>\n",
              "      </button>\n",
              "      \n",
              "  <style>\n",
              "    .colab-df-container {\n",
              "      display:flex;\n",
              "      flex-wrap:wrap;\n",
              "      gap: 12px;\n",
              "    }\n",
              "\n",
              "    .colab-df-convert {\n",
              "      background-color: #E8F0FE;\n",
              "      border: none;\n",
              "      border-radius: 50%;\n",
              "      cursor: pointer;\n",
              "      display: none;\n",
              "      fill: #1967D2;\n",
              "      height: 32px;\n",
              "      padding: 0 0 0 0;\n",
              "      width: 32px;\n",
              "    }\n",
              "\n",
              "    .colab-df-convert:hover {\n",
              "      background-color: #E2EBFA;\n",
              "      box-shadow: 0px 1px 2px rgba(60, 64, 67, 0.3), 0px 1px 3px 1px rgba(60, 64, 67, 0.15);\n",
              "      fill: #174EA6;\n",
              "    }\n",
              "\n",
              "    [theme=dark] .colab-df-convert {\n",
              "      background-color: #3B4455;\n",
              "      fill: #D2E3FC;\n",
              "    }\n",
              "\n",
              "    [theme=dark] .colab-df-convert:hover {\n",
              "      background-color: #434B5C;\n",
              "      box-shadow: 0px 1px 3px 1px rgba(0, 0, 0, 0.15);\n",
              "      filter: drop-shadow(0px 1px 2px rgba(0, 0, 0, 0.3));\n",
              "      fill: #FFFFFF;\n",
              "    }\n",
              "  </style>\n",
              "\n",
              "      <script>\n",
              "        const buttonEl =\n",
              "          document.querySelector('#df-63f349bf-a4a4-4a0f-a3b1-1be457a8f420 button.colab-df-convert');\n",
              "        buttonEl.style.display =\n",
              "          google.colab.kernel.accessAllowed ? 'block' : 'none';\n",
              "\n",
              "        async function convertToInteractive(key) {\n",
              "          const element = document.querySelector('#df-63f349bf-a4a4-4a0f-a3b1-1be457a8f420');\n",
              "          const dataTable =\n",
              "            await google.colab.kernel.invokeFunction('convertToInteractive',\n",
              "                                                     [key], {});\n",
              "          if (!dataTable) return;\n",
              "\n",
              "          const docLinkHtml = 'Like what you see? Visit the ' +\n",
              "            '<a target=\"_blank\" href=https://colab.research.google.com/notebooks/data_table.ipynb>data table notebook</a>'\n",
              "            + ' to learn more about interactive tables.';\n",
              "          element.innerHTML = '';\n",
              "          dataTable['output_type'] = 'display_data';\n",
              "          await google.colab.output.renderOutput(dataTable, element);\n",
              "          const docLink = document.createElement('div');\n",
              "          docLink.innerHTML = docLinkHtml;\n",
              "          element.appendChild(docLink);\n",
              "        }\n",
              "      </script>\n",
              "    </div>\n",
              "  </div>\n",
              "  "
            ],
            "text/plain": [
              "      fixed acidity  volatile acidity  citric acid  ...    pH  sulphates  alcohol\n",
              "225             7.5              0.65         0.18  ...  3.38       0.77      9.4\n",
              "3557            6.3              0.27         0.29  ...  3.14       0.40      8.8\n",
              "3825            8.8              0.27         0.25  ...  2.87       0.49     11.4\n",
              "1740            6.4              0.45         0.07  ...  2.97       0.28     10.8\n",
              "1221            7.2              0.53         0.13  ...  3.21       0.68      9.9\n",
              "\n",
              "[5 rows x 11 columns]"
            ]
          },
          "metadata": {},
          "execution_count": 31
        }
      ]
    },
    {
      "cell_type": "code",
      "source": [
        "print(train)"
      ],
      "metadata": {
        "colab": {
          "base_uri": "https://localhost:8080/"
        },
        "id": "wPSPEf7rI1rr",
        "outputId": "a196355b-9c60-4a89-c63a-be2606bebdda"
      },
      "execution_count": 33,
      "outputs": [
        {
          "output_type": "stream",
          "name": "stdout",
          "text": [
            "      fixed acidity  volatile acidity  citric acid  ...    pH  sulphates  alcohol\n",
            "225             7.5              0.65         0.18  ...  3.38       0.77      9.4\n",
            "3557            6.3              0.27         0.29  ...  3.14       0.40      8.8\n",
            "3825            8.8              0.27         0.25  ...  2.87       0.49     11.4\n",
            "1740            6.4              0.45         0.07  ...  2.97       0.28     10.8\n",
            "1221            7.2              0.53         0.13  ...  3.21       0.68      9.9\n",
            "...             ...               ...          ...  ...   ...        ...      ...\n",
            "1916            7.0              0.21         0.37  ...  3.26       0.56      9.8\n",
            "606             9.2              0.53         0.24  ...  3.21       0.57      9.5\n",
            "1255            6.0              0.58         0.20  ...  3.58       0.67     12.5\n",
            "959             6.8              0.66         0.07  ...  3.29       0.60      9.3\n",
            "2887            6.0              0.28         0.22  ...  3.20       0.46     10.1\n",
            "\n",
            "[3155 rows x 11 columns]\n"
          ]
        }
      ]
    },
    {
      "cell_type": "code",
      "source": [
        "print(train_Y)"
      ],
      "metadata": {
        "colab": {
          "base_uri": "https://localhost:8080/"
        },
        "id": "TQUAW_CNI8TW",
        "outputId": "b2cee17b-7ed3-49d6-b3e7-d83f9dea7c9a"
      },
      "execution_count": 34,
      "outputs": [
        {
          "output_type": "stream",
          "name": "stdout",
          "text": [
            "(array([5, 6, 5, ..., 6, 5, 5]), array([1, 0, 0, ..., 1, 1, 0]))\n"
          ]
        }
      ]
    },
    {
      "cell_type": "code",
      "source": [
        "def norm(x):\n",
        "    return (x - train_stats['mean']) / train_stats['std']\n"
      ],
      "metadata": {
        "id": "Pc6V5o3nJGvq"
      },
      "execution_count": 35,
      "outputs": []
    },
    {
      "cell_type": "code",
      "source": [
        "# normalize the train set\n",
        "norm_train_X = norm(train)\n",
        "    \n",
        "# normalize the val set\n",
        "norm_val_X = norm(val)\n",
        "    \n",
        "# normalize the test set\n",
        "norm_test_X = norm(test)"
      ],
      "metadata": {
        "id": "RkErLV8dJI5q"
      },
      "execution_count": 36,
      "outputs": []
    },
    {
      "cell_type": "code",
      "source": [
        "input_layer = Input(shape = (11,),name=\"input_layer\")\n",
        "\n",
        "first_dense = Dense(units = '128', activation='relu',name=\"first_dense\")(input_layer)\n",
        "drop_out = Dropout(0.2, name=\"drop_out\")(first_dense)\n",
        "\n",
        "second_dense = Dense(units = '64', activation='relu',name=\"second_dense\")(drop_out)\n",
        "\n",
        "wine_type = Dense(units='1', activation = 'sigmoid', name=\"wine_type\")(second_dense)\n",
        "\n",
        "third_dense = Dense(units = '32', activation='relu',name=\"third_dense\")(second_dense)\n",
        "wine_quality = Dense(units='1',  name=\"wine_quality\")(third_dense)\n",
        "\n",
        "model = Model(inputs = input_layer, outputs = [wine_quality,wine_type])\n",
        "\n",
        "print(model.summary())"
      ],
      "metadata": {
        "colab": {
          "base_uri": "https://localhost:8080/"
        },
        "id": "Ors5azvMJOhO",
        "outputId": "65c59bc7-c7fa-4f37-e7a8-da5ef3772d82"
      },
      "execution_count": 47,
      "outputs": [
        {
          "output_type": "stream",
          "name": "stdout",
          "text": [
            "Model: \"model_2\"\n",
            "__________________________________________________________________________________________________\n",
            "Layer (type)                    Output Shape         Param #     Connected to                     \n",
            "==================================================================================================\n",
            "input_layer (InputLayer)        [(None, 11)]         0                                            \n",
            "__________________________________________________________________________________________________\n",
            "first_dense (Dense)             (None, 128)          1536        input_layer[0][0]                \n",
            "__________________________________________________________________________________________________\n",
            "drop_out (Dropout)              (None, 128)          0           first_dense[0][0]                \n",
            "__________________________________________________________________________________________________\n",
            "second_dense (Dense)            (None, 64)           8256        drop_out[0][0]                   \n",
            "__________________________________________________________________________________________________\n",
            "third_dense (Dense)             (None, 32)           2080        second_dense[0][0]               \n",
            "__________________________________________________________________________________________________\n",
            "wine_quality (Dense)            (None, 1)            33          third_dense[0][0]                \n",
            "__________________________________________________________________________________________________\n",
            "wine_type (Dense)               (None, 1)            65          second_dense[0][0]               \n",
            "==================================================================================================\n",
            "Total params: 11,970\n",
            "Trainable params: 11,970\n",
            "Non-trainable params: 0\n",
            "__________________________________________________________________________________________________\n",
            "None\n"
          ]
        }
      ]
    },
    {
      "cell_type": "code",
      "source": [
        "from tensorflow.python.keras.utils.vis_utils import plot_model\n",
        "import pydot\n",
        "plot_model(model, show_shapes=True, show_layer_names=True, to_file='model.png')"
      ],
      "metadata": {
        "colab": {
          "base_uri": "https://localhost:8080/",
          "height": 644
        },
        "id": "lJ2TFIA4NWpy",
        "outputId": "d98d420d-40b3-4251-e837-869b292d13be"
      },
      "execution_count": 48,
      "outputs": [
        {
          "output_type": "execute_result",
          "data": {
            "image/png": "[encoded data removed]",
            "text/plain": [
              "<IPython.core.display.Image object>"
            ]
          },
          "metadata": {},
          "execution_count": 48
        }
      ]
    },
    {
      "cell_type": "code",
      "source": [
        "# Specify the optimizer, and compile the model with loss functions for both outputs\n",
        "optimizer = tf.keras.optimizers.Adam(learning_rate=0.001)\n",
        "model.compile(optimizer=optimizer,\n",
        "              loss={'wine_quality': tf.keras.losses.MeanSquaredError(), 'wine_type': tf.keras.losses.BinaryCrossentropy()},\n",
        "              metrics={'wine_quality': tf.keras.metrics.RootMeanSquaredError(),\n",
        "                       'wine_type': tf.keras.metrics.BinaryAccuracy()})"
      ],
      "metadata": {
        "id": "0huzDPeANeyv"
      },
      "execution_count": 49,
      "outputs": []
    },
    {
      "cell_type": "code",
      "source": [
        "# Train the model for 500 epochs\n",
        "history = model.fit(norm_train_X, train_Y,\n",
        "                    epochs=100, batch_size=10, validation_data=(norm_val_X, val_Y))"
      ],
      "metadata": {
        "colab": {
          "base_uri": "https://localhost:8080/"
        },
        "id": "cwYzmpFNPpZN",
        "outputId": "807f6c10-1722-497b-bed6-6cd88fe70a41"
      },
      "execution_count": 52,
      "outputs": [
        {
          "output_type": "stream",
          "name": "stdout",
          "text": [
            "Epoch 1/100\n",
            "316/316 [==============================] - 2s 6ms/step - loss: 0.2847 - wine_quality_loss: 0.2792 - wine_type_loss: 0.0055 - wine_quality_root_mean_squared_error: 0.5284 - wine_type_binary_accuracy: 0.9984 - val_loss: 0.3758 - val_wine_quality_loss: 0.3407 - val_wine_type_loss: 0.0351 - val_wine_quality_root_mean_squared_error: 0.5837 - val_wine_type_binary_accuracy: 0.9962\n",
            "Epoch 2/100\n",
            "316/316 [==============================] - 2s 6ms/step - loss: 0.2844 - wine_quality_loss: 0.2788 - wine_type_loss: 0.0056 - wine_quality_root_mean_squared_error: 0.5280 - wine_type_binary_accuracy: 0.9987 - val_loss: 0.3933 - val_wine_quality_loss: 0.3568 - val_wine_type_loss: 0.0366 - val_wine_quality_root_mean_squared_error: 0.5973 - val_wine_type_binary_accuracy: 0.9962\n",
            "Epoch 3/100\n",
            "316/316 [==============================] - 2s 6ms/step - loss: 0.2811 - wine_quality_loss: 0.2768 - wine_type_loss: 0.0043 - wine_quality_root_mean_squared_error: 0.5261 - wine_type_binary_accuracy: 0.9994 - val_loss: 0.3643 - val_wine_quality_loss: 0.3265 - val_wine_type_loss: 0.0378 - val_wine_quality_root_mean_squared_error: 0.5714 - val_wine_type_binary_accuracy: 0.9949\n",
            "Epoch 4/100\n",
            "316/316 [==============================] - 2s 6ms/step - loss: 0.2748 - wine_quality_loss: 0.2706 - wine_type_loss: 0.0042 - wine_quality_root_mean_squared_error: 0.5202 - wine_type_binary_accuracy: 0.9990 - val_loss: 0.3741 - val_wine_quality_loss: 0.3368 - val_wine_type_loss: 0.0373 - val_wine_quality_root_mean_squared_error: 0.5804 - val_wine_type_binary_accuracy: 0.9962\n",
            "Epoch 5/100\n",
            "316/316 [==============================] - 2s 6ms/step - loss: 0.2784 - wine_quality_loss: 0.2719 - wine_type_loss: 0.0065 - wine_quality_root_mean_squared_error: 0.5214 - wine_type_binary_accuracy: 0.9975 - val_loss: 0.3540 - val_wine_quality_loss: 0.3158 - val_wine_type_loss: 0.0382 - val_wine_quality_root_mean_squared_error: 0.5620 - val_wine_type_binary_accuracy: 0.9962\n",
            "Epoch 6/100\n",
            "316/316 [==============================] - 2s 5ms/step - loss: 0.2797 - wine_quality_loss: 0.2740 - wine_type_loss: 0.0057 - wine_quality_root_mean_squared_error: 0.5234 - wine_type_binary_accuracy: 0.9987 - val_loss: 0.4084 - val_wine_quality_loss: 0.3693 - val_wine_type_loss: 0.0390 - val_wine_quality_root_mean_squared_error: 0.6077 - val_wine_type_binary_accuracy: 0.9937\n",
            "Epoch 7/100\n",
            "316/316 [==============================] - 1s 4ms/step - loss: 0.2755 - wine_quality_loss: 0.2706 - wine_type_loss: 0.0049 - wine_quality_root_mean_squared_error: 0.5202 - wine_type_binary_accuracy: 0.9984 - val_loss: 0.3606 - val_wine_quality_loss: 0.3226 - val_wine_type_loss: 0.0379 - val_wine_quality_root_mean_squared_error: 0.5680 - val_wine_type_binary_accuracy: 0.9962\n",
            "Epoch 8/100\n",
            "316/316 [==============================] - 1s 4ms/step - loss: 0.2723 - wine_quality_loss: 0.2672 - wine_type_loss: 0.0051 - wine_quality_root_mean_squared_error: 0.5169 - wine_type_binary_accuracy: 0.9981 - val_loss: 0.3647 - val_wine_quality_loss: 0.3278 - val_wine_type_loss: 0.0369 - val_wine_quality_root_mean_squared_error: 0.5725 - val_wine_type_binary_accuracy: 0.9962\n",
            "Epoch 9/100\n",
            "316/316 [==============================] - 1s 4ms/step - loss: 0.2699 - wine_quality_loss: 0.2659 - wine_type_loss: 0.0040 - wine_quality_root_mean_squared_error: 0.5157 - wine_type_binary_accuracy: 0.9990 - val_loss: 0.3788 - val_wine_quality_loss: 0.3437 - val_wine_type_loss: 0.0350 - val_wine_quality_root_mean_squared_error: 0.5863 - val_wine_type_binary_accuracy: 0.9962\n",
            "Epoch 10/100\n",
            "316/316 [==============================] - 1s 4ms/step - loss: 0.2783 - wine_quality_loss: 0.2726 - wine_type_loss: 0.0057 - wine_quality_root_mean_squared_error: 0.5221 - wine_type_binary_accuracy: 0.9981 - val_loss: 0.3819 - val_wine_quality_loss: 0.3399 - val_wine_type_loss: 0.0419 - val_wine_quality_root_mean_squared_error: 0.5830 - val_wine_type_binary_accuracy: 0.9962\n",
            "Epoch 11/100\n",
            "316/316 [==============================] - 1s 5ms/step - loss: 0.2745 - wine_quality_loss: 0.2682 - wine_type_loss: 0.0063 - wine_quality_root_mean_squared_error: 0.5179 - wine_type_binary_accuracy: 0.9978 - val_loss: 0.3606 - val_wine_quality_loss: 0.3212 - val_wine_type_loss: 0.0394 - val_wine_quality_root_mean_squared_error: 0.5667 - val_wine_type_binary_accuracy: 0.9962\n",
            "Epoch 12/100\n",
            "316/316 [==============================] - 1s 5ms/step - loss: 0.2746 - wine_quality_loss: 0.2667 - wine_type_loss: 0.0078 - wine_quality_root_mean_squared_error: 0.5165 - wine_type_binary_accuracy: 0.9971 - val_loss: 0.3632 - val_wine_quality_loss: 0.3173 - val_wine_type_loss: 0.0460 - val_wine_quality_root_mean_squared_error: 0.5633 - val_wine_type_binary_accuracy: 0.9962\n",
            "Epoch 13/100\n",
            "316/316 [==============================] - 2s 5ms/step - loss: 0.2661 - wine_quality_loss: 0.2618 - wine_type_loss: 0.0043 - wine_quality_root_mean_squared_error: 0.5116 - wine_type_binary_accuracy: 0.9987 - val_loss: 0.3598 - val_wine_quality_loss: 0.3178 - val_wine_type_loss: 0.0420 - val_wine_quality_root_mean_squared_error: 0.5637 - val_wine_type_binary_accuracy: 0.9962\n",
            "Epoch 14/100\n",
            "316/316 [==============================] - 2s 5ms/step - loss: 0.2638 - wine_quality_loss: 0.2602 - wine_type_loss: 0.0036 - wine_quality_root_mean_squared_error: 0.5101 - wine_type_binary_accuracy: 0.9994 - val_loss: 0.3642 - val_wine_quality_loss: 0.3223 - val_wine_type_loss: 0.0419 - val_wine_quality_root_mean_squared_error: 0.5677 - val_wine_type_binary_accuracy: 0.9962\n",
            "Epoch 15/100\n",
            "316/316 [==============================] - 1s 5ms/step - loss: 0.2646 - wine_quality_loss: 0.2582 - wine_type_loss: 0.0064 - wine_quality_root_mean_squared_error: 0.5081 - wine_type_binary_accuracy: 0.9975 - val_loss: 0.3518 - val_wine_quality_loss: 0.3125 - val_wine_type_loss: 0.0394 - val_wine_quality_root_mean_squared_error: 0.5590 - val_wine_type_binary_accuracy: 0.9962\n",
            "Epoch 16/100\n",
            "316/316 [==============================] - 2s 5ms/step - loss: 0.2617 - wine_quality_loss: 0.2568 - wine_type_loss: 0.0049 - wine_quality_root_mean_squared_error: 0.5068 - wine_type_binary_accuracy: 0.9984 - val_loss: 0.3567 - val_wine_quality_loss: 0.3169 - val_wine_type_loss: 0.0398 - val_wine_quality_root_mean_squared_error: 0.5629 - val_wine_type_binary_accuracy: 0.9937\n",
            "Epoch 17/100\n",
            "316/316 [==============================] - 1s 4ms/step - loss: 0.2645 - wine_quality_loss: 0.2600 - wine_type_loss: 0.0046 - wine_quality_root_mean_squared_error: 0.5099 - wine_type_binary_accuracy: 0.9981 - val_loss: 0.3933 - val_wine_quality_loss: 0.3506 - val_wine_type_loss: 0.0427 - val_wine_quality_root_mean_squared_error: 0.5921 - val_wine_type_binary_accuracy: 0.9962\n",
            "Epoch 18/100\n",
            "316/316 [==============================] - 1s 3ms/step - loss: 0.2602 - wine_quality_loss: 0.2541 - wine_type_loss: 0.0061 - wine_quality_root_mean_squared_error: 0.5041 - wine_type_binary_accuracy: 0.9984 - val_loss: 0.3826 - val_wine_quality_loss: 0.3405 - val_wine_type_loss: 0.0421 - val_wine_quality_root_mean_squared_error: 0.5835 - val_wine_type_binary_accuracy: 0.9962\n",
            "Epoch 19/100\n",
            "316/316 [==============================] - 1s 3ms/step - loss: 0.2641 - wine_quality_loss: 0.2585 - wine_type_loss: 0.0056 - wine_quality_root_mean_squared_error: 0.5084 - wine_type_binary_accuracy: 0.9978 - val_loss: 0.3603 - val_wine_quality_loss: 0.3225 - val_wine_type_loss: 0.0378 - val_wine_quality_root_mean_squared_error: 0.5679 - val_wine_type_binary_accuracy: 0.9962\n",
            "Epoch 20/100\n",
            "316/316 [==============================] - 1s 3ms/step - loss: 0.2617 - wine_quality_loss: 0.2565 - wine_type_loss: 0.0052 - wine_quality_root_mean_squared_error: 0.5065 - wine_type_binary_accuracy: 0.9987 - val_loss: 0.3922 - val_wine_quality_loss: 0.3525 - val_wine_type_loss: 0.0397 - val_wine_quality_root_mean_squared_error: 0.5937 - val_wine_type_binary_accuracy: 0.9962\n",
            "Epoch 21/100\n",
            "316/316 [==============================] - 1s 3ms/step - loss: 0.2553 - wine_quality_loss: 0.2501 - wine_type_loss: 0.0052 - wine_quality_root_mean_squared_error: 0.5001 - wine_type_binary_accuracy: 0.9981 - val_loss: 0.3771 - val_wine_quality_loss: 0.3376 - val_wine_type_loss: 0.0395 - val_wine_quality_root_mean_squared_error: 0.5811 - val_wine_type_binary_accuracy: 0.9962\n",
            "Epoch 22/100\n",
            "316/316 [==============================] - 1s 3ms/step - loss: 0.2529 - wine_quality_loss: 0.2490 - wine_type_loss: 0.0039 - wine_quality_root_mean_squared_error: 0.4990 - wine_type_binary_accuracy: 0.9987 - val_loss: 0.3819 - val_wine_quality_loss: 0.3447 - val_wine_type_loss: 0.0372 - val_wine_quality_root_mean_squared_error: 0.5871 - val_wine_type_binary_accuracy: 0.9962\n",
            "Epoch 23/100\n",
            "316/316 [==============================] - 1s 3ms/step - loss: 0.2512 - wine_quality_loss: 0.2420 - wine_type_loss: 0.0092 - wine_quality_root_mean_squared_error: 0.4919 - wine_type_binary_accuracy: 0.9971 - val_loss: 0.3820 - val_wine_quality_loss: 0.3345 - val_wine_type_loss: 0.0475 - val_wine_quality_root_mean_squared_error: 0.5783 - val_wine_type_binary_accuracy: 0.9937\n",
            "Epoch 24/100\n",
            "316/316 [==============================] - 1s 3ms/step - loss: 0.2492 - wine_quality_loss: 0.2428 - wine_type_loss: 0.0064 - wine_quality_root_mean_squared_error: 0.4928 - wine_type_binary_accuracy: 0.9981 - val_loss: 0.3706 - val_wine_quality_loss: 0.3294 - val_wine_type_loss: 0.0412 - val_wine_quality_root_mean_squared_error: 0.5739 - val_wine_type_binary_accuracy: 0.9962\n",
            "Epoch 25/100\n",
            "316/316 [==============================] - 1s 3ms/step - loss: 0.2559 - wine_quality_loss: 0.2511 - wine_type_loss: 0.0048 - wine_quality_root_mean_squared_error: 0.5011 - wine_type_binary_accuracy: 0.9984 - val_loss: 0.3753 - val_wine_quality_loss: 0.3351 - val_wine_type_loss: 0.0402 - val_wine_quality_root_mean_squared_error: 0.5789 - val_wine_type_binary_accuracy: 0.9962\n",
            "Epoch 26/100\n",
            "316/316 [==============================] - 1s 3ms/step - loss: 0.2491 - wine_quality_loss: 0.2451 - wine_type_loss: 0.0040 - wine_quality_root_mean_squared_error: 0.4951 - wine_type_binary_accuracy: 0.9984 - val_loss: 0.3762 - val_wine_quality_loss: 0.3359 - val_wine_type_loss: 0.0403 - val_wine_quality_root_mean_squared_error: 0.5796 - val_wine_type_binary_accuracy: 0.9962\n",
            "Epoch 27/100\n",
            "316/316 [==============================] - 1s 3ms/step - loss: 0.2448 - wine_quality_loss: 0.2416 - wine_type_loss: 0.0033 - wine_quality_root_mean_squared_error: 0.4915 - wine_type_binary_accuracy: 0.9990 - val_loss: 0.3821 - val_wine_quality_loss: 0.3408 - val_wine_type_loss: 0.0414 - val_wine_quality_root_mean_squared_error: 0.5838 - val_wine_type_binary_accuracy: 0.9962\n",
            "Epoch 28/100\n",
            "316/316 [==============================] - 1s 3ms/step - loss: 0.2479 - wine_quality_loss: 0.2437 - wine_type_loss: 0.0042 - wine_quality_root_mean_squared_error: 0.4937 - wine_type_binary_accuracy: 0.9990 - val_loss: 0.3723 - val_wine_quality_loss: 0.3315 - val_wine_type_loss: 0.0408 - val_wine_quality_root_mean_squared_error: 0.5758 - val_wine_type_binary_accuracy: 0.9962\n",
            "Epoch 29/100\n",
            "316/316 [==============================] - 1s 3ms/step - loss: 0.2478 - wine_quality_loss: 0.2417 - wine_type_loss: 0.0060 - wine_quality_root_mean_squared_error: 0.4917 - wine_type_binary_accuracy: 0.9984 - val_loss: 0.3819 - val_wine_quality_loss: 0.3383 - val_wine_type_loss: 0.0436 - val_wine_quality_root_mean_squared_error: 0.5816 - val_wine_type_binary_accuracy: 0.9949\n",
            "Epoch 30/100\n",
            "316/316 [==============================] - 1s 3ms/step - loss: 0.2427 - wine_quality_loss: 0.2381 - wine_type_loss: 0.0046 - wine_quality_root_mean_squared_error: 0.4879 - wine_type_binary_accuracy: 0.9987 - val_loss: 0.4053 - val_wine_quality_loss: 0.3631 - val_wine_type_loss: 0.0421 - val_wine_quality_root_mean_squared_error: 0.6026 - val_wine_type_binary_accuracy: 0.9962\n",
            "Epoch 31/100\n",
            "316/316 [==============================] - 1s 3ms/step - loss: 0.2417 - wine_quality_loss: 0.2389 - wine_type_loss: 0.0028 - wine_quality_root_mean_squared_error: 0.4888 - wine_type_binary_accuracy: 0.9994 - val_loss: 0.3893 - val_wine_quality_loss: 0.3439 - val_wine_type_loss: 0.0454 - val_wine_quality_root_mean_squared_error: 0.5864 - val_wine_type_binary_accuracy: 0.9962\n",
            "Epoch 32/100\n",
            "316/316 [==============================] - 1s 4ms/step - loss: 0.2462 - wine_quality_loss: 0.2421 - wine_type_loss: 0.0041 - wine_quality_root_mean_squared_error: 0.4921 - wine_type_binary_accuracy: 0.9987 - val_loss: 0.3836 - val_wine_quality_loss: 0.3417 - val_wine_type_loss: 0.0419 - val_wine_quality_root_mean_squared_error: 0.5845 - val_wine_type_binary_accuracy: 0.9962\n",
            "Epoch 33/100\n",
            "316/316 [==============================] - 1s 5ms/step - loss: 0.2454 - wine_quality_loss: 0.2423 - wine_type_loss: 0.0031 - wine_quality_root_mean_squared_error: 0.4923 - wine_type_binary_accuracy: 0.9990 - val_loss: 0.3803 - val_wine_quality_loss: 0.3376 - val_wine_type_loss: 0.0427 - val_wine_quality_root_mean_squared_error: 0.5811 - val_wine_type_binary_accuracy: 0.9962\n",
            "Epoch 34/100\n",
            "316/316 [==============================] - 1s 4ms/step - loss: 0.2436 - wine_quality_loss: 0.2400 - wine_type_loss: 0.0036 - wine_quality_root_mean_squared_error: 0.4899 - wine_type_binary_accuracy: 0.9987 - val_loss: 0.3939 - val_wine_quality_loss: 0.3500 - val_wine_type_loss: 0.0439 - val_wine_quality_root_mean_squared_error: 0.5916 - val_wine_type_binary_accuracy: 0.9949\n",
            "Epoch 35/100\n",
            "316/316 [==============================] - 1s 4ms/step - loss: 0.2398 - wine_quality_loss: 0.2342 - wine_type_loss: 0.0056 - wine_quality_root_mean_squared_error: 0.4839 - wine_type_binary_accuracy: 0.9987 - val_loss: 0.3791 - val_wine_quality_loss: 0.3349 - val_wine_type_loss: 0.0442 - val_wine_quality_root_mean_squared_error: 0.5787 - val_wine_type_binary_accuracy: 0.9949\n",
            "Epoch 36/100\n",
            "316/316 [==============================] - 1s 5ms/step - loss: 0.2327 - wine_quality_loss: 0.2293 - wine_type_loss: 0.0034 - wine_quality_root_mean_squared_error: 0.4789 - wine_type_binary_accuracy: 0.9987 - val_loss: 0.3856 - val_wine_quality_loss: 0.3413 - val_wine_type_loss: 0.0442 - val_wine_quality_root_mean_squared_error: 0.5842 - val_wine_type_binary_accuracy: 0.9949\n",
            "Epoch 37/100\n",
            "316/316 [==============================] - 1s 4ms/step - loss: 0.2396 - wine_quality_loss: 0.2352 - wine_type_loss: 0.0044 - wine_quality_root_mean_squared_error: 0.4850 - wine_type_binary_accuracy: 0.9984 - val_loss: 0.3847 - val_wine_quality_loss: 0.3393 - val_wine_type_loss: 0.0454 - val_wine_quality_root_mean_squared_error: 0.5825 - val_wine_type_binary_accuracy: 0.9949\n",
            "Epoch 38/100\n",
            "316/316 [==============================] - 1s 4ms/step - loss: 0.2366 - wine_quality_loss: 0.2326 - wine_type_loss: 0.0041 - wine_quality_root_mean_squared_error: 0.4823 - wine_type_binary_accuracy: 0.9987 - val_loss: 0.4120 - val_wine_quality_loss: 0.3677 - val_wine_type_loss: 0.0443 - val_wine_quality_root_mean_squared_error: 0.6064 - val_wine_type_binary_accuracy: 0.9949\n",
            "Epoch 39/100\n",
            "316/316 [==============================] - 1s 3ms/step - loss: 0.2413 - wine_quality_loss: 0.2364 - wine_type_loss: 0.0049 - wine_quality_root_mean_squared_error: 0.4862 - wine_type_binary_accuracy: 0.9987 - val_loss: 0.4362 - val_wine_quality_loss: 0.3743 - val_wine_type_loss: 0.0619 - val_wine_quality_root_mean_squared_error: 0.6118 - val_wine_type_binary_accuracy: 0.9911\n",
            "Epoch 40/100\n",
            "316/316 [==============================] - 1s 5ms/step - loss: 0.2353 - wine_quality_loss: 0.2312 - wine_type_loss: 0.0041 - wine_quality_root_mean_squared_error: 0.4808 - wine_type_binary_accuracy: 0.9990 - val_loss: 0.3820 - val_wine_quality_loss: 0.3314 - val_wine_type_loss: 0.0506 - val_wine_quality_root_mean_squared_error: 0.5757 - val_wine_type_binary_accuracy: 0.9949\n",
            "Epoch 41/100\n",
            "316/316 [==============================] - 1s 4ms/step - loss: 0.2281 - wine_quality_loss: 0.2240 - wine_type_loss: 0.0041 - wine_quality_root_mean_squared_error: 0.4732 - wine_type_binary_accuracy: 0.9987 - val_loss: 0.3850 - val_wine_quality_loss: 0.3403 - val_wine_type_loss: 0.0446 - val_wine_quality_root_mean_squared_error: 0.5834 - val_wine_type_binary_accuracy: 0.9949\n",
            "Epoch 42/100\n",
            "316/316 [==============================] - 1s 4ms/step - loss: 0.2304 - wine_quality_loss: 0.2272 - wine_type_loss: 0.0031 - wine_quality_root_mean_squared_error: 0.4767 - wine_type_binary_accuracy: 0.9990 - val_loss: 0.3996 - val_wine_quality_loss: 0.3528 - val_wine_type_loss: 0.0468 - val_wine_quality_root_mean_squared_error: 0.5940 - val_wine_type_binary_accuracy: 0.9949\n",
            "Epoch 43/100\n",
            "316/316 [==============================] - 1s 4ms/step - loss: 0.2303 - wine_quality_loss: 0.2264 - wine_type_loss: 0.0040 - wine_quality_root_mean_squared_error: 0.4758 - wine_type_binary_accuracy: 0.9987 - val_loss: 0.3967 - val_wine_quality_loss: 0.3517 - val_wine_type_loss: 0.0450 - val_wine_quality_root_mean_squared_error: 0.5930 - val_wine_type_binary_accuracy: 0.9949\n",
            "Epoch 44/100\n",
            "316/316 [==============================] - 1s 4ms/step - loss: 0.2332 - wine_quality_loss: 0.2285 - wine_type_loss: 0.0047 - wine_quality_root_mean_squared_error: 0.4780 - wine_type_binary_accuracy: 0.9987 - val_loss: 0.4166 - val_wine_quality_loss: 0.3628 - val_wine_type_loss: 0.0539 - val_wine_quality_root_mean_squared_error: 0.6023 - val_wine_type_binary_accuracy: 0.9937\n",
            "Epoch 45/100\n",
            "316/316 [==============================] - 1s 4ms/step - loss: 0.2349 - wine_quality_loss: 0.2288 - wine_type_loss: 0.0061 - wine_quality_root_mean_squared_error: 0.4783 - wine_type_binary_accuracy: 0.9984 - val_loss: 0.3842 - val_wine_quality_loss: 0.3356 - val_wine_type_loss: 0.0486 - val_wine_quality_root_mean_squared_error: 0.5793 - val_wine_type_binary_accuracy: 0.9937\n",
            "Epoch 46/100\n",
            "316/316 [==============================] - 1s 4ms/step - loss: 0.2260 - wine_quality_loss: 0.2227 - wine_type_loss: 0.0033 - wine_quality_root_mean_squared_error: 0.4719 - wine_type_binary_accuracy: 0.9987 - val_loss: 0.4143 - val_wine_quality_loss: 0.3636 - val_wine_type_loss: 0.0507 - val_wine_quality_root_mean_squared_error: 0.6030 - val_wine_type_binary_accuracy: 0.9937\n",
            "Epoch 47/100\n",
            "316/316 [==============================] - 1s 5ms/step - loss: 0.2296 - wine_quality_loss: 0.2257 - wine_type_loss: 0.0039 - wine_quality_root_mean_squared_error: 0.4751 - wine_type_binary_accuracy: 0.9981 - val_loss: 0.4116 - val_wine_quality_loss: 0.3575 - val_wine_type_loss: 0.0541 - val_wine_quality_root_mean_squared_error: 0.5979 - val_wine_type_binary_accuracy: 0.9949\n",
            "Epoch 48/100\n",
            "316/316 [==============================] - 1s 4ms/step - loss: 0.2250 - wine_quality_loss: 0.2218 - wine_type_loss: 0.0032 - wine_quality_root_mean_squared_error: 0.4710 - wine_type_binary_accuracy: 0.9994 - val_loss: 0.3967 - val_wine_quality_loss: 0.3459 - val_wine_type_loss: 0.0508 - val_wine_quality_root_mean_squared_error: 0.5881 - val_wine_type_binary_accuracy: 0.9949\n",
            "Epoch 49/100\n",
            "316/316 [==============================] - 2s 5ms/step - loss: 0.2266 - wine_quality_loss: 0.2211 - wine_type_loss: 0.0056 - wine_quality_root_mean_squared_error: 0.4702 - wine_type_binary_accuracy: 0.9990 - val_loss: 0.3907 - val_wine_quality_loss: 0.3423 - val_wine_type_loss: 0.0484 - val_wine_quality_root_mean_squared_error: 0.5851 - val_wine_type_binary_accuracy: 0.9949\n",
            "Epoch 50/100\n",
            "316/316 [==============================] - 1s 4ms/step - loss: 0.2225 - wine_quality_loss: 0.2192 - wine_type_loss: 0.0033 - wine_quality_root_mean_squared_error: 0.4682 - wine_type_binary_accuracy: 0.9994 - val_loss: 0.3908 - val_wine_quality_loss: 0.3422 - val_wine_type_loss: 0.0487 - val_wine_quality_root_mean_squared_error: 0.5849 - val_wine_type_binary_accuracy: 0.9949\n",
            "Epoch 51/100\n",
            "316/316 [==============================] - 1s 3ms/step - loss: 0.2199 - wine_quality_loss: 0.2166 - wine_type_loss: 0.0033 - wine_quality_root_mean_squared_error: 0.4654 - wine_type_binary_accuracy: 0.9990 - val_loss: 0.3965 - val_wine_quality_loss: 0.3463 - val_wine_type_loss: 0.0502 - val_wine_quality_root_mean_squared_error: 0.5885 - val_wine_type_binary_accuracy: 0.9962\n",
            "Epoch 52/100\n",
            "316/316 [==============================] - 1s 3ms/step - loss: 0.2223 - wine_quality_loss: 0.2189 - wine_type_loss: 0.0033 - wine_quality_root_mean_squared_error: 0.4679 - wine_type_binary_accuracy: 0.9990 - val_loss: 0.3924 - val_wine_quality_loss: 0.3423 - val_wine_type_loss: 0.0500 - val_wine_quality_root_mean_squared_error: 0.5851 - val_wine_type_binary_accuracy: 0.9949\n",
            "Epoch 53/100\n",
            "316/316 [==============================] - 1s 3ms/step - loss: 0.2277 - wine_quality_loss: 0.2245 - wine_type_loss: 0.0032 - wine_quality_root_mean_squared_error: 0.4738 - wine_type_binary_accuracy: 0.9990 - val_loss: 0.4032 - val_wine_quality_loss: 0.3534 - val_wine_type_loss: 0.0497 - val_wine_quality_root_mean_squared_error: 0.5945 - val_wine_type_binary_accuracy: 0.9937\n",
            "Epoch 54/100\n",
            "316/316 [==============================] - 1s 3ms/step - loss: 0.2183 - wine_quality_loss: 0.2138 - wine_type_loss: 0.0045 - wine_quality_root_mean_squared_error: 0.4624 - wine_type_binary_accuracy: 0.9978 - val_loss: 0.3935 - val_wine_quality_loss: 0.3427 - val_wine_type_loss: 0.0508 - val_wine_quality_root_mean_squared_error: 0.5854 - val_wine_type_binary_accuracy: 0.9949\n",
            "Epoch 55/100\n",
            "316/316 [==============================] - 1s 3ms/step - loss: 0.2217 - wine_quality_loss: 0.2177 - wine_type_loss: 0.0039 - wine_quality_root_mean_squared_error: 0.4666 - wine_type_binary_accuracy: 0.9984 - val_loss: 0.4012 - val_wine_quality_loss: 0.3521 - val_wine_type_loss: 0.0491 - val_wine_quality_root_mean_squared_error: 0.5934 - val_wine_type_binary_accuracy: 0.9937\n",
            "Epoch 56/100\n",
            "316/316 [==============================] - 1s 3ms/step - loss: 0.2161 - wine_quality_loss: 0.2117 - wine_type_loss: 0.0044 - wine_quality_root_mean_squared_error: 0.4601 - wine_type_binary_accuracy: 0.9990 - val_loss: 0.3902 - val_wine_quality_loss: 0.3420 - val_wine_type_loss: 0.0482 - val_wine_quality_root_mean_squared_error: 0.5848 - val_wine_type_binary_accuracy: 0.9937\n",
            "Epoch 57/100\n",
            "316/316 [==============================] - 2s 6ms/step - loss: 0.2200 - wine_quality_loss: 0.2160 - wine_type_loss: 0.0040 - wine_quality_root_mean_squared_error: 0.4648 - wine_type_binary_accuracy: 0.9990 - val_loss: 0.4018 - val_wine_quality_loss: 0.3500 - val_wine_type_loss: 0.0518 - val_wine_quality_root_mean_squared_error: 0.5916 - val_wine_type_binary_accuracy: 0.9962\n",
            "Epoch 58/100\n",
            "316/316 [==============================] - 1s 3ms/step - loss: 0.2162 - wine_quality_loss: 0.2127 - wine_type_loss: 0.0034 - wine_quality_root_mean_squared_error: 0.4612 - wine_type_binary_accuracy: 0.9990 - val_loss: 0.4127 - val_wine_quality_loss: 0.3608 - val_wine_type_loss: 0.0519 - val_wine_quality_root_mean_squared_error: 0.6006 - val_wine_type_binary_accuracy: 0.9949\n",
            "Epoch 59/100\n",
            "316/316 [==============================] - 1s 3ms/step - loss: 0.2101 - wine_quality_loss: 0.2075 - wine_type_loss: 0.0026 - wine_quality_root_mean_squared_error: 0.4555 - wine_type_binary_accuracy: 0.9994 - val_loss: 0.4324 - val_wine_quality_loss: 0.3813 - val_wine_type_loss: 0.0512 - val_wine_quality_root_mean_squared_error: 0.6175 - val_wine_type_binary_accuracy: 0.9937\n",
            "Epoch 60/100\n",
            "316/316 [==============================] - 1s 3ms/step - loss: 0.2186 - wine_quality_loss: 0.2163 - wine_type_loss: 0.0023 - wine_quality_root_mean_squared_error: 0.4651 - wine_type_binary_accuracy: 0.9994 - val_loss: 0.4128 - val_wine_quality_loss: 0.3595 - val_wine_type_loss: 0.0533 - val_wine_quality_root_mean_squared_error: 0.5996 - val_wine_type_binary_accuracy: 0.9949\n",
            "Epoch 61/100\n",
            "316/316 [==============================] - 1s 3ms/step - loss: 0.2170 - wine_quality_loss: 0.2130 - wine_type_loss: 0.0040 - wine_quality_root_mean_squared_error: 0.4615 - wine_type_binary_accuracy: 0.9981 - val_loss: 0.3988 - val_wine_quality_loss: 0.3446 - val_wine_type_loss: 0.0542 - val_wine_quality_root_mean_squared_error: 0.5870 - val_wine_type_binary_accuracy: 0.9962\n",
            "Epoch 62/100\n",
            "316/316 [==============================] - 1s 3ms/step - loss: 0.2144 - wine_quality_loss: 0.2081 - wine_type_loss: 0.0063 - wine_quality_root_mean_squared_error: 0.4562 - wine_type_binary_accuracy: 0.9987 - val_loss: 0.4160 - val_wine_quality_loss: 0.3648 - val_wine_type_loss: 0.0512 - val_wine_quality_root_mean_squared_error: 0.6040 - val_wine_type_binary_accuracy: 0.9937\n",
            "Epoch 63/100\n",
            "316/316 [==============================] - 1s 3ms/step - loss: 0.2100 - wine_quality_loss: 0.2064 - wine_type_loss: 0.0035 - wine_quality_root_mean_squared_error: 0.4543 - wine_type_binary_accuracy: 0.9987 - val_loss: 0.4066 - val_wine_quality_loss: 0.3506 - val_wine_type_loss: 0.0560 - val_wine_quality_root_mean_squared_error: 0.5921 - val_wine_type_binary_accuracy: 0.9962\n",
            "Epoch 64/100\n",
            "316/316 [==============================] - 1s 3ms/step - loss: 0.2177 - wine_quality_loss: 0.2151 - wine_type_loss: 0.0026 - wine_quality_root_mean_squared_error: 0.4638 - wine_type_binary_accuracy: 0.9997 - val_loss: 0.4005 - val_wine_quality_loss: 0.3461 - val_wine_type_loss: 0.0545 - val_wine_quality_root_mean_squared_error: 0.5883 - val_wine_type_binary_accuracy: 0.9937\n",
            "Epoch 65/100\n",
            "316/316 [==============================] - 1s 3ms/step - loss: 0.2004 - wine_quality_loss: 0.1979 - wine_type_loss: 0.0025 - wine_quality_root_mean_squared_error: 0.4448 - wine_type_binary_accuracy: 0.9994 - val_loss: 0.3992 - val_wine_quality_loss: 0.3491 - val_wine_type_loss: 0.0501 - val_wine_quality_root_mean_squared_error: 0.5909 - val_wine_type_binary_accuracy: 0.9937\n",
            "Epoch 66/100\n",
            "316/316 [==============================] - 1s 3ms/step - loss: 0.2067 - wine_quality_loss: 0.2042 - wine_type_loss: 0.0025 - wine_quality_root_mean_squared_error: 0.4518 - wine_type_binary_accuracy: 0.9987 - val_loss: 0.4007 - val_wine_quality_loss: 0.3491 - val_wine_type_loss: 0.0516 - val_wine_quality_root_mean_squared_error: 0.5908 - val_wine_type_binary_accuracy: 0.9937\n",
            "Epoch 67/100\n",
            "316/316 [==============================] - 2s 7ms/step - loss: 0.2120 - wine_quality_loss: 0.2077 - wine_type_loss: 0.0043 - wine_quality_root_mean_squared_error: 0.4557 - wine_type_binary_accuracy: 0.9978 - val_loss: 0.4195 - val_wine_quality_loss: 0.3688 - val_wine_type_loss: 0.0507 - val_wine_quality_root_mean_squared_error: 0.6073 - val_wine_type_binary_accuracy: 0.9937\n",
            "Epoch 68/100\n",
            "316/316 [==============================] - 2s 7ms/step - loss: 0.2041 - wine_quality_loss: 0.2019 - wine_type_loss: 0.0022 - wine_quality_root_mean_squared_error: 0.4493 - wine_type_binary_accuracy: 0.9990 - val_loss: 0.4029 - val_wine_quality_loss: 0.3504 - val_wine_type_loss: 0.0525 - val_wine_quality_root_mean_squared_error: 0.5919 - val_wine_type_binary_accuracy: 0.9949\n",
            "Epoch 69/100\n",
            "316/316 [==============================] - 2s 7ms/step - loss: 0.2199 - wine_quality_loss: 0.2118 - wine_type_loss: 0.0081 - wine_quality_root_mean_squared_error: 0.4602 - wine_type_binary_accuracy: 0.9965 - val_loss: 0.4096 - val_wine_quality_loss: 0.3545 - val_wine_type_loss: 0.0551 - val_wine_quality_root_mean_squared_error: 0.5954 - val_wine_type_binary_accuracy: 0.9949\n",
            "Epoch 70/100\n",
            "316/316 [==============================] - 3s 11ms/step - loss: 0.2059 - wine_quality_loss: 0.2022 - wine_type_loss: 0.0038 - wine_quality_root_mean_squared_error: 0.4497 - wine_type_binary_accuracy: 0.9978 - val_loss: 0.4072 - val_wine_quality_loss: 0.3584 - val_wine_type_loss: 0.0487 - val_wine_quality_root_mean_squared_error: 0.5987 - val_wine_type_binary_accuracy: 0.9962\n",
            "Epoch 71/100\n",
            "316/316 [==============================] - 3s 8ms/step - loss: 0.2081 - wine_quality_loss: 0.2019 - wine_type_loss: 0.0062 - wine_quality_root_mean_squared_error: 0.4494 - wine_type_binary_accuracy: 0.9981 - val_loss: 0.4099 - val_wine_quality_loss: 0.3537 - val_wine_type_loss: 0.0563 - val_wine_quality_root_mean_squared_error: 0.5947 - val_wine_type_binary_accuracy: 0.9924\n",
            "Epoch 72/100\n",
            "316/316 [==============================] - 2s 8ms/step - loss: 0.2061 - wine_quality_loss: 0.2027 - wine_type_loss: 0.0034 - wine_quality_root_mean_squared_error: 0.4502 - wine_type_binary_accuracy: 0.9994 - val_loss: 0.4106 - val_wine_quality_loss: 0.3560 - val_wine_type_loss: 0.0546 - val_wine_quality_root_mean_squared_error: 0.5966 - val_wine_type_binary_accuracy: 0.9949\n",
            "Epoch 73/100\n",
            "316/316 [==============================] - 2s 7ms/step - loss: 0.1991 - wine_quality_loss: 0.1961 - wine_type_loss: 0.0030 - wine_quality_root_mean_squared_error: 0.4428 - wine_type_binary_accuracy: 0.9994 - val_loss: 0.4311 - val_wine_quality_loss: 0.3737 - val_wine_type_loss: 0.0575 - val_wine_quality_root_mean_squared_error: 0.6113 - val_wine_type_binary_accuracy: 0.9937\n",
            "Epoch 74/100\n",
            "316/316 [==============================] - 2s 6ms/step - loss: 0.2043 - wine_quality_loss: 0.2010 - wine_type_loss: 0.0033 - wine_quality_root_mean_squared_error: 0.4483 - wine_type_binary_accuracy: 0.9987 - val_loss: 0.4083 - val_wine_quality_loss: 0.3581 - val_wine_type_loss: 0.0502 - val_wine_quality_root_mean_squared_error: 0.5984 - val_wine_type_binary_accuracy: 0.9924\n",
            "Epoch 75/100\n",
            "316/316 [==============================] - 2s 7ms/step - loss: 0.2130 - wine_quality_loss: 0.2095 - wine_type_loss: 0.0035 - wine_quality_root_mean_squared_error: 0.4577 - wine_type_binary_accuracy: 0.9987 - val_loss: 0.4160 - val_wine_quality_loss: 0.3662 - val_wine_type_loss: 0.0498 - val_wine_quality_root_mean_squared_error: 0.6052 - val_wine_type_binary_accuracy: 0.9937\n",
            "Epoch 76/100\n",
            "316/316 [==============================] - 2s 7ms/step - loss: 0.2007 - wine_quality_loss: 0.1987 - wine_type_loss: 0.0020 - wine_quality_root_mean_squared_error: 0.4457 - wine_type_binary_accuracy: 0.9994 - val_loss: 0.4155 - val_wine_quality_loss: 0.3652 - val_wine_type_loss: 0.0504 - val_wine_quality_root_mean_squared_error: 0.6043 - val_wine_type_binary_accuracy: 0.9949\n",
            "Epoch 77/100\n",
            "316/316 [==============================] - 2s 7ms/step - loss: 0.1974 - wine_quality_loss: 0.1938 - wine_type_loss: 0.0036 - wine_quality_root_mean_squared_error: 0.4402 - wine_type_binary_accuracy: 0.9990 - val_loss: 0.4107 - val_wine_quality_loss: 0.3540 - val_wine_type_loss: 0.0567 - val_wine_quality_root_mean_squared_error: 0.5950 - val_wine_type_binary_accuracy: 0.9949\n",
            "Epoch 78/100\n",
            "316/316 [==============================] - 2s 6ms/step - loss: 0.2044 - wine_quality_loss: 0.2000 - wine_type_loss: 0.0044 - wine_quality_root_mean_squared_error: 0.4472 - wine_type_binary_accuracy: 0.9984 - val_loss: 0.3991 - val_wine_quality_loss: 0.3464 - val_wine_type_loss: 0.0527 - val_wine_quality_root_mean_squared_error: 0.5886 - val_wine_type_binary_accuracy: 0.9949\n",
            "Epoch 79/100\n",
            "316/316 [==============================] - 2s 7ms/step - loss: 0.1947 - wine_quality_loss: 0.1915 - wine_type_loss: 0.0032 - wine_quality_root_mean_squared_error: 0.4376 - wine_type_binary_accuracy: 0.9994 - val_loss: 0.4134 - val_wine_quality_loss: 0.3582 - val_wine_type_loss: 0.0552 - val_wine_quality_root_mean_squared_error: 0.5985 - val_wine_type_binary_accuracy: 0.9949\n",
            "Epoch 80/100\n",
            "316/316 [==============================] - 2s 6ms/step - loss: 0.1967 - wine_quality_loss: 0.1928 - wine_type_loss: 0.0038 - wine_quality_root_mean_squared_error: 0.4391 - wine_type_binary_accuracy: 0.9994 - val_loss: 0.4210 - val_wine_quality_loss: 0.3633 - val_wine_type_loss: 0.0577 - val_wine_quality_root_mean_squared_error: 0.6027 - val_wine_type_binary_accuracy: 0.9949\n",
            "Epoch 81/100\n",
            "316/316 [==============================] - 2s 8ms/step - loss: 0.1994 - wine_quality_loss: 0.1978 - wine_type_loss: 0.0016 - wine_quality_root_mean_squared_error: 0.4447 - wine_type_binary_accuracy: 0.9997 - val_loss: 0.4218 - val_wine_quality_loss: 0.3697 - val_wine_type_loss: 0.0521 - val_wine_quality_root_mean_squared_error: 0.6080 - val_wine_type_binary_accuracy: 0.9949\n",
            "Epoch 82/100\n",
            "316/316 [==============================] - 3s 10ms/step - loss: 0.1920 - wine_quality_loss: 0.1891 - wine_type_loss: 0.0029 - wine_quality_root_mean_squared_error: 0.4349 - wine_type_binary_accuracy: 0.9990 - val_loss: 0.4083 - val_wine_quality_loss: 0.3606 - val_wine_type_loss: 0.0477 - val_wine_quality_root_mean_squared_error: 0.6005 - val_wine_type_binary_accuracy: 0.9949\n",
            "Epoch 83/100\n",
            "316/316 [==============================] - 2s 8ms/step - loss: 0.1948 - wine_quality_loss: 0.1916 - wine_type_loss: 0.0032 - wine_quality_root_mean_squared_error: 0.4377 - wine_type_binary_accuracy: 0.9984 - val_loss: 0.4199 - val_wine_quality_loss: 0.3635 - val_wine_type_loss: 0.0564 - val_wine_quality_root_mean_squared_error: 0.6029 - val_wine_type_binary_accuracy: 0.9949\n",
            "Epoch 84/100\n",
            "316/316 [==============================] - 2s 7ms/step - loss: 0.1934 - wine_quality_loss: 0.1905 - wine_type_loss: 0.0028 - wine_quality_root_mean_squared_error: 0.4365 - wine_type_binary_accuracy: 0.9987 - val_loss: 0.4191 - val_wine_quality_loss: 0.3655 - val_wine_type_loss: 0.0536 - val_wine_quality_root_mean_squared_error: 0.6046 - val_wine_type_binary_accuracy: 0.9949\n",
            "Epoch 85/100\n",
            "316/316 [==============================] - 2s 5ms/step - loss: 0.2012 - wine_quality_loss: 0.1976 - wine_type_loss: 0.0036 - wine_quality_root_mean_squared_error: 0.4445 - wine_type_binary_accuracy: 0.9990 - val_loss: 0.4139 - val_wine_quality_loss: 0.3620 - val_wine_type_loss: 0.0519 - val_wine_quality_root_mean_squared_error: 0.6017 - val_wine_type_binary_accuracy: 0.9949\n",
            "Epoch 86/100\n",
            "316/316 [==============================] - 2s 5ms/step - loss: 0.1934 - wine_quality_loss: 0.1911 - wine_type_loss: 0.0023 - wine_quality_root_mean_squared_error: 0.4372 - wine_type_binary_accuracy: 0.9997 - val_loss: 0.4198 - val_wine_quality_loss: 0.3652 - val_wine_type_loss: 0.0546 - val_wine_quality_root_mean_squared_error: 0.6043 - val_wine_type_binary_accuracy: 0.9949\n",
            "Epoch 87/100\n",
            "316/316 [==============================] - 2s 5ms/step - loss: 0.1924 - wine_quality_loss: 0.1896 - wine_type_loss: 0.0028 - wine_quality_root_mean_squared_error: 0.4355 - wine_type_binary_accuracy: 0.9994 - val_loss: 0.4426 - val_wine_quality_loss: 0.3872 - val_wine_type_loss: 0.0554 - val_wine_quality_root_mean_squared_error: 0.6223 - val_wine_type_binary_accuracy: 0.9949\n",
            "Epoch 88/100\n",
            "316/316 [==============================] - 2s 5ms/step - loss: 0.2027 - wine_quality_loss: 0.1985 - wine_type_loss: 0.0042 - wine_quality_root_mean_squared_error: 0.4455 - wine_type_binary_accuracy: 0.9984 - val_loss: 0.4233 - val_wine_quality_loss: 0.3669 - val_wine_type_loss: 0.0565 - val_wine_quality_root_mean_squared_error: 0.6057 - val_wine_type_binary_accuracy: 0.9949\n",
            "Epoch 89/100\n",
            "316/316 [==============================] - 2s 5ms/step - loss: 0.1934 - wine_quality_loss: 0.1903 - wine_type_loss: 0.0031 - wine_quality_root_mean_squared_error: 0.4363 - wine_type_binary_accuracy: 0.9990 - val_loss: 0.4133 - val_wine_quality_loss: 0.3567 - val_wine_type_loss: 0.0566 - val_wine_quality_root_mean_squared_error: 0.5972 - val_wine_type_binary_accuracy: 0.9949\n",
            "Epoch 90/100\n",
            "316/316 [==============================] - 2s 5ms/step - loss: 0.1912 - wine_quality_loss: 0.1882 - wine_type_loss: 0.0030 - wine_quality_root_mean_squared_error: 0.4338 - wine_type_binary_accuracy: 0.9990 - val_loss: 0.4209 - val_wine_quality_loss: 0.3681 - val_wine_type_loss: 0.0528 - val_wine_quality_root_mean_squared_error: 0.6067 - val_wine_type_binary_accuracy: 0.9949\n",
            "Epoch 91/100\n",
            "316/316 [==============================] - 1s 4ms/step - loss: 0.1884 - wine_quality_loss: 0.1839 - wine_type_loss: 0.0044 - wine_quality_root_mean_squared_error: 0.4289 - wine_type_binary_accuracy: 0.9978 - val_loss: 0.4270 - val_wine_quality_loss: 0.3676 - val_wine_type_loss: 0.0593 - val_wine_quality_root_mean_squared_error: 0.6063 - val_wine_type_binary_accuracy: 0.9924\n",
            "Epoch 92/100\n",
            "316/316 [==============================] - 2s 5ms/step - loss: 0.1932 - wine_quality_loss: 0.1898 - wine_type_loss: 0.0034 - wine_quality_root_mean_squared_error: 0.4357 - wine_type_binary_accuracy: 0.9990 - val_loss: 0.4407 - val_wine_quality_loss: 0.3793 - val_wine_type_loss: 0.0614 - val_wine_quality_root_mean_squared_error: 0.6159 - val_wine_type_binary_accuracy: 0.9949\n",
            "Epoch 93/100\n",
            "316/316 [==============================] - 1s 5ms/step - loss: 0.1842 - wine_quality_loss: 0.1815 - wine_type_loss: 0.0027 - wine_quality_root_mean_squared_error: 0.4260 - wine_type_binary_accuracy: 0.9994 - val_loss: 0.4294 - val_wine_quality_loss: 0.3725 - val_wine_type_loss: 0.0569 - val_wine_quality_root_mean_squared_error: 0.6103 - val_wine_type_binary_accuracy: 0.9949\n",
            "Epoch 94/100\n",
            "316/316 [==============================] - 1s 5ms/step - loss: 0.1932 - wine_quality_loss: 0.1908 - wine_type_loss: 0.0024 - wine_quality_root_mean_squared_error: 0.4368 - wine_type_binary_accuracy: 0.9994 - val_loss: 0.4047 - val_wine_quality_loss: 0.3510 - val_wine_type_loss: 0.0537 - val_wine_quality_root_mean_squared_error: 0.5924 - val_wine_type_binary_accuracy: 0.9949\n",
            "Epoch 95/100\n",
            "316/316 [==============================] - 1s 5ms/step - loss: 0.1827 - wine_quality_loss: 0.1804 - wine_type_loss: 0.0023 - wine_quality_root_mean_squared_error: 0.4248 - wine_type_binary_accuracy: 0.9997 - val_loss: 0.4402 - val_wine_quality_loss: 0.3804 - val_wine_type_loss: 0.0598 - val_wine_quality_root_mean_squared_error: 0.6168 - val_wine_type_binary_accuracy: 0.9937\n",
            "Epoch 96/100\n",
            "316/316 [==============================] - 1s 4ms/step - loss: 0.1936 - wine_quality_loss: 0.1898 - wine_type_loss: 0.0038 - wine_quality_root_mean_squared_error: 0.4356 - wine_type_binary_accuracy: 0.9990 - val_loss: 0.4260 - val_wine_quality_loss: 0.3647 - val_wine_type_loss: 0.0612 - val_wine_quality_root_mean_squared_error: 0.6039 - val_wine_type_binary_accuracy: 0.9924\n",
            "Epoch 97/100\n",
            "316/316 [==============================] - 2s 5ms/step - loss: 0.1886 - wine_quality_loss: 0.1813 - wine_type_loss: 0.0073 - wine_quality_root_mean_squared_error: 0.4258 - wine_type_binary_accuracy: 0.9978 - val_loss: 0.4276 - val_wine_quality_loss: 0.3705 - val_wine_type_loss: 0.0571 - val_wine_quality_root_mean_squared_error: 0.6087 - val_wine_type_binary_accuracy: 0.9937\n",
            "Epoch 98/100\n",
            "316/316 [==============================] - 2s 5ms/step - loss: 0.1919 - wine_quality_loss: 0.1865 - wine_type_loss: 0.0054 - wine_quality_root_mean_squared_error: 0.4318 - wine_type_binary_accuracy: 0.9978 - val_loss: 0.4317 - val_wine_quality_loss: 0.3716 - val_wine_type_loss: 0.0601 - val_wine_quality_root_mean_squared_error: 0.6096 - val_wine_type_binary_accuracy: 0.9949\n",
            "Epoch 99/100\n",
            "316/316 [==============================] - 1s 5ms/step - loss: 0.1888 - wine_quality_loss: 0.1843 - wine_type_loss: 0.0045 - wine_quality_root_mean_squared_error: 0.4293 - wine_type_binary_accuracy: 0.9987 - val_loss: 0.4162 - val_wine_quality_loss: 0.3604 - val_wine_type_loss: 0.0558 - val_wine_quality_root_mean_squared_error: 0.6003 - val_wine_type_binary_accuracy: 0.9949\n",
            "Epoch 100/100\n",
            "316/316 [==============================] - 2s 5ms/step - loss: 0.1907 - wine_quality_loss: 0.1880 - wine_type_loss: 0.0027 - wine_quality_root_mean_squared_error: 0.4336 - wine_type_binary_accuracy: 0.9994 - val_loss: 0.4433 - val_wine_quality_loss: 0.3905 - val_wine_type_loss: 0.0528 - val_wine_quality_root_mean_squared_error: 0.6249 - val_wine_type_binary_accuracy: 0.9949\n"
          ]
        }
      ]
    },
    {
      "cell_type": "code",
      "source": [
        "predictions = model.predict(norm_test_X)\n",
        "quality_pred = predictions[0]\n",
        "type_pred = predictions[1]"
      ],
      "metadata": {
        "id": "Lmy7PZicRGFh"
      },
      "execution_count": 54,
      "outputs": []
    },
    {
      "cell_type": "code",
      "source": [
        ""
      ],
      "metadata": {
        "id": "BpQotA0rRd6A"
      },
      "execution_count": null,
      "outputs": []
    },
    {
      "cell_type": "code",
      "source": [
        "def plot_metrics(metric_name, title, ylim=5):\n",
        "    plt.title(title)\n",
        "    #plt.ylim(0,ylim)\n",
        "    plt.plot(history.history[metric_name],color='blue',label=metric_name)\n",
        "    plt.plot(history.history['val_' + metric_name],color='green',label='val_' + metric_name)"
      ],
      "metadata": {
        "id": "hYeRSNVfRd89"
      },
      "execution_count": 62,
      "outputs": []
    },
    {
      "cell_type": "code",
      "source": [
        "plot_metrics('wine_quality_root_mean_squared_error', 'RMSE', ylim=2)"
      ],
      "metadata": {
        "colab": {
          "base_uri": "https://localhost:8080/",
          "height": 281
        },
        "id": "FmE44HsuRv-8",
        "outputId": "e4e7868c-8e81-4f4b-8534-471a7f09d33c"
      },
      "execution_count": 55,
      "outputs": [
        {
          "output_type": "display_data",
          "data": {
            "image/png": "[encoded data removed]",
            "text/plain": [
              "<Figure size 432x288 with 1 Axes>"
            ]
          },
          "metadata": {
            "needs_background": "light"
          }
        }
      ]
    },
    {
      "cell_type": "code",
      "source": [
        "plot_metrics('wine_type_loss', 'Wine Type Loss', ylim=0.2)\n"
      ],
      "metadata": {
        "colab": {
          "base_uri": "https://localhost:8080/",
          "height": 281
        },
        "id": "fkPOUC93R0dj",
        "outputId": "47b6aa00-6b1e-470a-d4c4-6303113742c4"
      },
      "execution_count": 56,
      "outputs": [
        {
          "output_type": "display_data",
          "data": {
            "image/png": "[encoded data removed]",
            "text/plain": [
              "<Figure size 432x288 with 1 Axes>"
            ]
          },
          "metadata": {
            "needs_background": "light"
          }
        }
      ]
    },
    {
      "cell_type": "code",
      "source": [
        "\n",
        "plot_metrics('wine_type_binary_accuracy', 'wine_type_binary_accuracy', ylim=2)"
      ],
      "metadata": {
        "colab": {
          "base_uri": "https://localhost:8080/",
          "height": 281
        },
        "id": "jQPVOt-rSN-U",
        "outputId": "91bd33f6-9cb1-49f1-a3e4-359f9ef414ee"
      },
      "execution_count": 63,
      "outputs": [
        {
          "output_type": "display_data",
          "data": {
            "image/png": "[encoded data removed]",
            "text/plain": [
              "<Figure size 432x288 with 1 Axes>"
            ]
          },
          "metadata": {
            "needs_background": "light"
          }
        }
      ]
    }
  ]
}