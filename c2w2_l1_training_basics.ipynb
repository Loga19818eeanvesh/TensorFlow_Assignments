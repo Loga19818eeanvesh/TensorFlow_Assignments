{
  "nbformat": 4,
  "nbformat_minor": 0,
  "metadata": {
    "colab": {
      "name": "c2w2_l1_training-basics.ipynb",
      "provenance": [],
      "authorship_tag": "ABX9TyOe139749TPTBdejRweFo66",
      "include_colab_link": true
    },
    "kernelspec": {
      "name": "python3",
      "display_name": "Python 3"
    },
    "language_info": {
      "name": "python"
    }
  },
  "cells": [
    {
      "cell_type": "markdown",
      "metadata": {
        "id": "view-in-github",
        "colab_type": "text"
      },
      "source": [
        "<a href=\"https://colab.research.google.com/github/Loga19818eeanvesh/TensorFlow_DeepLearning_Assignments/blob/main/c2w2_l1_training_basics.ipynb\" target=\"_parent\"><img src=\"https://colab.research.google.com/assets/colab-badge.svg\" alt=\"Open In Colab\"/></a>"
      ]
    },
    {
      "cell_type": "code",
      "execution_count": 1,
      "metadata": {
        "id": "cXgDmgMRWgzl"
      },
      "outputs": [],
      "source": [
        "from __future__ import absolute_import, division, print_function, unicode_literals\n",
        "\n",
        "try:\n",
        "  # %tensorflow_version only exists in Colab.\n",
        "  %tensorflow_version 2.x\n",
        "except Exception:\n",
        "  pass\n",
        "\n",
        "\n",
        "import tensorflow as tf\n",
        "import numpy as np\n",
        "import matplotlib.pyplot as plt"
      ]
    },
    {
      "cell_type": "code",
      "source": [
        "class Model(object):\n",
        "  def __init__(self):\n",
        "    # Initialize the weights to `2.0` and the bias to `1.0`\n",
        "    # In practice, these should be initialized to random values (for example, with `tf.random.normal`)\n",
        "    self.w = tf.Variable(2.0)\n",
        "    self.b = tf.Variable(1.0)\n",
        "\n",
        "  def __call__(self, x):\n",
        "    return self.w * x + self.b\n",
        "\n",
        "model = Model()"
      ],
      "metadata": {
        "id": "bx3CQP7oXE5P"
      },
      "execution_count": 2,
      "outputs": []
    },
    {
      "cell_type": "code",
      "source": [
        "def loss(predicted_y, target_y):\n",
        "  return tf.reduce_mean(tf.square(predicted_y - target_y))"
      ],
      "metadata": {
        "id": "om7XzI_CXJTO"
      },
      "execution_count": 3,
      "outputs": []
    },
    {
      "cell_type": "code",
      "source": [
        "TRUE_w = 3.0\n",
        "TRUE_b = 2.0\n",
        "NUM_EXAMPLES = 1000\n",
        "\n",
        "xs  = tf.random.normal(shape=[NUM_EXAMPLES])\n",
        "\n",
        "ys = (TRUE_w * xs) + TRUE_b"
      ],
      "metadata": {
        "id": "dT1ORHf6XN1F"
      },
      "execution_count": 4,
      "outputs": []
    },
    {
      "cell_type": "code",
      "source": [
        "def plot_data(inputs, outputs, predicted_outputs):\n",
        "  real = plt.scatter(inputs, outputs, c='b', marker='.')\n",
        "  predicted = plt.scatter(inputs, predicted_outputs, c='r', marker='+')\n",
        "  plt.legend((real,predicted), ('Real Data', 'Predicted Data'))\n",
        "  plt.show()"
      ],
      "metadata": {
        "id": "l9ZRBnj3XSBE"
      },
      "execution_count": 5,
      "outputs": []
    },
    {
      "cell_type": "code",
      "source": [
        "plot_data(xs, ys, model(xs))\n",
        "print('Current loss: %1.6f' % loss(model(xs), ys).numpy())"
      ],
      "metadata": {
        "colab": {
          "base_uri": "https://localhost:8080/",
          "height": 283
        },
        "id": "lCTB1_vMXWHm",
        "outputId": "3bb32032-9bf2-45dc-f5eb-8488b2a6af6f"
      },
      "execution_count": 6,
      "outputs": [
        {
          "output_type": "display_data",
          "data": {
            "image/png": "[encoded data removed]",
            "text/plain": [
              "<Figure size 432x288 with 1 Axes>"
            ]
          },
          "metadata": {
            "needs_background": "light"
          }
        },
        {
          "output_type": "stream",
          "name": "stdout",
          "text": [
            "Current loss: 2.057418\n"
          ]
        }
      ]
    },
    {
      "cell_type": "code",
      "source": [
        "def train(model, inputs, outputs, learning_rate):\n",
        "  with tf.GradientTape() as t:\n",
        "    current_loss = loss(model(inputs), outputs)\n",
        "  dw, db = t.gradient(current_loss, [model.w, model.b])\n",
        "  model.w.assign_sub(learning_rate * dw)\n",
        "  model.b.assign_sub(learning_rate * db)\n",
        "\n",
        "  return current_loss\n"
      ],
      "metadata": {
        "id": "9sPUuc1dXa8M"
      },
      "execution_count": 7,
      "outputs": []
    },
    {
      "cell_type": "code",
      "source": [
        "model = Model()\n",
        "\n",
        "# Collect the history of W-values and b-values to plot later\n",
        "list_w, list_b = [], []\n",
        "epochs = range(15)\n",
        "losses = []\n",
        "for epoch in epochs:\n",
        "  list_w.append(model.w.numpy())\n",
        "  list_b.append(model.b.numpy())\n",
        "  current_loss = train(model, xs, ys, learning_rate=0.1)\n",
        "  losses.append(current_loss)\n",
        "  print('Epoch %2d: w=%1.2f b=%1.2f, loss=%2.5f' %\n",
        "        (epoch, list_w[-1], list_b[-1], current_loss))"
      ],
      "metadata": {
        "colab": {
          "base_uri": "https://localhost:8080/"
        },
        "id": "wluPRhXCXkbe",
        "outputId": "9c974dff-ff68-40a9-c593-6514baf659fd"
      },
      "execution_count": 8,
      "outputs": [
        {
          "output_type": "stream",
          "name": "stdout",
          "text": [
            "Epoch  0: w=2.00 b=1.00, loss=2.05742\n",
            "Epoch  1: w=2.20 b=1.21, loss=1.29790\n",
            "Epoch  2: w=2.37 b=1.37, loss=0.81877\n",
            "Epoch  3: w=2.50 b=1.50, loss=0.51652\n",
            "Epoch  4: w=2.60 b=1.60, loss=0.32585\n",
            "Epoch  5: w=2.68 b=1.69, loss=0.20556\n",
            "Epoch  6: w=2.75 b=1.75, loss=0.12968\n",
            "Epoch  7: w=2.80 b=1.80, loss=0.08181\n",
            "Epoch  8: w=2.84 b=1.84, loss=0.05161\n",
            "Epoch  9: w=2.87 b=1.88, loss=0.03256\n",
            "Epoch 10: w=2.90 b=1.90, loss=0.02054\n",
            "Epoch 11: w=2.92 b=1.92, loss=0.01296\n",
            "Epoch 12: w=2.94 b=1.94, loss=0.00818\n",
            "Epoch 13: w=2.95 b=1.95, loss=0.00516\n",
            "Epoch 14: w=2.96 b=1.96, loss=0.00325\n"
          ]
        }
      ]
    },
    {
      "cell_type": "code",
      "source": [
        "plt.plot(epochs, list_w, 'r',\n",
        "       epochs, list_b, 'b')\n",
        "plt.plot([TRUE_w] * len(epochs), 'r--',\n",
        "      [TRUE_b] * len(epochs), 'b--')\n",
        "plt.legend(['w', 'b', 'True w', 'True b'])\n",
        "plt.show()"
      ],
      "metadata": {
        "colab": {
          "base_uri": "https://localhost:8080/",
          "height": 265
        },
        "id": "nWF8Qp8vXsdk",
        "outputId": "66bc750e-8457-4d05-d042-d14a37a3b6a8"
      },
      "execution_count": 9,
      "outputs": [
        {
          "output_type": "display_data",
          "data": {
            "image/png": "[encoded data removed]",
            "text/plain": [
              "<Figure size 432x288 with 1 Axes>"
            ]
          },
          "metadata": {
            "needs_background": "light"
          }
        }
      ]
    },
    {
      "cell_type": "code",
      "source": [
        "test_inputs  = tf.random.normal(shape=[NUM_EXAMPLES])\n",
        "test_outputs = test_inputs * TRUE_w + TRUE_b\n",
        "\n",
        "predicted_test_outputs = model(test_inputs)\n",
        "plot_data(test_inputs, test_outputs, predicted_test_outputs)"
      ],
      "metadata": {
        "colab": {
          "base_uri": "https://localhost:8080/",
          "height": 265
        },
        "id": "08aZ3IOJXviz",
        "outputId": "6e50f40a-875f-4718-a607-b45eb1ad3208"
      },
      "execution_count": 10,
      "outputs": [
        {
          "output_type": "display_data",
          "data": {
            "image/png": "[encoded data removed]",
            "text/plain": [
              "<Figure size 432x288 with 1 Axes>"
            ]
          },
          "metadata": {
            "needs_background": "light"
          }
        }
      ]
    },
    {
      "cell_type": "code",
      "source": [
        "def plot_loss_for_weights(weights_list, losses):\n",
        "  for idx, weights in enumerate(weights_list):\n",
        "    plt.subplot(120 + idx + 1)\n",
        "    plt.plot(weights['values'], losses, 'r')\n",
        "    plt.plot(weights['values'], losses, 'bo')\n",
        "    plt.xlabel(weights['name'])\n",
        "    plt.ylabel('Loss')\n",
        "    \n",
        "    \n",
        "weights_list = [{ 'name' : \"w\",\n",
        "                  'values' : list_w\n",
        "                },\n",
        "                {\n",
        "                  'name' : \"b\",\n",
        "                  'values' : list_b\n",
        "                }]\n",
        "\n",
        "plot_loss_for_weights(weights_list, losses)"
      ],
      "metadata": {
        "colab": {
          "base_uri": "https://localhost:8080/",
          "height": 279
        },
        "id": "K04XyH_2Xy_I",
        "outputId": "fb38c662-3a21-4000-a0a1-b7091b30b1aa"
      },
      "execution_count": 11,
      "outputs": [
        {
          "output_type": "display_data",
          "data": {
            "image/png": "[encoded data removed]",
            "text/plain": [
              "<Figure size 432x288 with 2 Axes>"
            ]
          },
          "metadata": {
            "needs_background": "light"
          }
        }
      ]
    }
  ]
}